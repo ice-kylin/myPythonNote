{
 "metadata": {
  "language_info": {
   "codemirror_mode": {
    "name": "ipython",
    "version": 3
   },
   "file_extension": ".py",
   "mimetype": "text/x-python",
   "name": "python",
   "nbconvert_exporter": "python",
   "pygments_lexer": "ipython3",
   "version": 3
  },
  "orig_nbformat": 2
 },
 "nbformat": 4,
 "nbformat_minor": 2,
 "cells": [
  {
   "source": [
    "# 运算符"
   ],
   "cell_type": "markdown",
   "metadata": {}
  },
  {
   "source": [
    "- 运算符可以对一个值或多个值进行运算或各种操作\n",
    "- 运算符的分类\n",
    "    1. 算数运算符\n",
    "    2. 赋值运算符\n",
    "    3. 比较运算符（关系运算符）\n",
    "    4. 逻辑运算符\n",
    "    5. 条件运算符（三元运算符）"
   ],
   "cell_type": "markdown",
   "metadata": {}
  }
 ]
}