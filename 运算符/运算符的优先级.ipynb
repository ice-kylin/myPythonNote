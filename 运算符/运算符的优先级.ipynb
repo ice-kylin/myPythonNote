{
 "metadata": {
  "language_info": {
   "codemirror_mode": {
    "name": "ipython",
    "version": 3
   },
   "file_extension": ".py",
   "mimetype": "text/x-python",
   "name": "python",
   "nbconvert_exporter": "python",
   "pygments_lexer": "ipython3",
   "version": "3.9.2"
  },
  "orig_nbformat": 2,
  "kernelspec": {
   "name": "python3",
   "display_name": "Python 3",
   "language": "python"
  }
 },
 "nbformat": 4,
 "nbformat_minor": 2,
 "cells": [
  {
   "source": [
    "# 运算符的优先级"
   ],
   "cell_type": "markdown",
   "metadata": {}
  },
  {
   "source": [
    "- 和数学中一样，在 Python 中运算也有优先级，比如先乘除、后加减\n",
    "- 运算符的优先级可以根据优先级的表格来查询\n",
    "    - 在表格中位置越靠下的运算符优先级越高（不要记表格）\n",
    "    - 优先级越高的越优先计算\n",
    "    - 如果优先级一样则自左向右计算\n",
    "    - 遇到优先级不清楚的，则可以通过 `()` 改变运算顺序"
   ],
   "cell_type": "markdown",
   "metadata": {}
  },
  {
   "cell_type": "code",
   "execution_count": null,
   "metadata": {},
   "outputs": [],
   "source": [
    "a = 1 + 2 * 3\n",
    "\n",
    "\"\"\"\n",
    "- 如果 b 结果是 3，则\n",
    "    1. or 的优先级高\n",
    "    2. or 和 and 的优先级一样高\n",
    "- 如果 b 结果是 1，则 and 的优先级高\n",
    "\"\"\"\n",
    "b = 1 or 2 and 3\n",
    "print(f'a = {a}')\n",
    "print(f'b = {b}')"
   ]
  }
 ]
}