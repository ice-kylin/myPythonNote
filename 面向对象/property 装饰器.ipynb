{
 "cells": [
  {
   "cell_type": "markdown",
   "metadata": {},
   "source": [
    "# `property` 装饰器"
   ]
  },
  {
   "cell_type": "markdown",
   "metadata": {},
   "source": [
    "- `@property` 装饰器用来将一个 `get` 方法转换为对象的属性\n",
    "- 添加为 `property` 装饰器以后，就可以像调用属性一样使用 `get` 方法\n",
    "- 使用 `property` 装饰的方法，必须和属性名是一样的"
   ]
  },
  {
   "cell_type": "code",
   "execution_count": null,
   "metadata": {},
   "outputs": [],
   "source": [
    "class Cuboid:\n",
    "    def __init__(self,length:float, width:float,height:float) -> None:\n",
    "        self._length = float(length)\n",
    "        self._width = float(width)\n",
    "        self._height = float(height)\n",
    "\n",
    "    def get_length(self) -> float:\n",
    "        return self._length\n",
    "\n",
    "    def set_length(self,length:float) -> None:\n",
    "        if (type(length) == 'float' or type(length) == 'int') and length > 0:\n",
    "            self._length = float(length)\n",
    "\n",
    "    @property\n",
    "    def width(self) -> float:\n",
    "        return self._width\n",
    "\n",
    "    @width.setter\n",
    "    def width(self,width:float) -> None:\n",
    "        if (isinstance(width,float) or isinstance(width,int)) and width > 0:\n",
    "            self._width = float(width)\n",
    "\n",
    "    def get_height(self) -> float:\n",
    "        return self._height\n",
    "\n",
    "    def set_height(self,height:float) -> None:\n",
    "        if (type(height) == 'float' or type(height) == 'int') and height > 0:\n",
    "            self._height = float(height)\n",
    "\n",
    "    def get_bottom_area(self) -> float:\n",
    "        return self._length * self._width\n",
    "\n",
    "    def get_volume(self) -> float:\n",
    "        return self._length * self._width * self._height\n",
    "\n",
    "cuboid_1 = Cuboid(4,5,6)\n",
    "print(f'cuboid_1.get_bottom_area() = {cuboid_1.get_bottom_area()}')\n",
    "print(f'cuboid_1.get_volume() = {cuboid_1.get_volume()}\\n')\n",
    "\n",
    "print(f'cuboid_1.width = {cuboid_1.width}\\n')\n",
    "cuboid_1.width = 10\n",
    "print(f'cuboid_1.width = {cuboid_1.width}\\n')"
   ]
  }
 ],
 "metadata": {
  "interpreter": {
   "hash": "74c7218724031fd2ef8447a3bbda77489cffef548a027660cea6b63e0f8437c7"
  },
  "kernelspec": {
   "display_name": "Python 3.9.7 64-bit (system)",
   "name": "python3"
  },
  "language_info": {
   "codemirror_mode": {
    "name": "ipython",
    "version": 3
   },
   "file_extension": ".py",
   "mimetype": "text/x-python",
   "name": "python",
   "nbconvert_exporter": "python",
   "pygments_lexer": "ipython3",
   "version": "3.9.7"
  },
  "orig_nbformat": 4
 },
 "nbformat": 4,
 "nbformat_minor": 2
}
