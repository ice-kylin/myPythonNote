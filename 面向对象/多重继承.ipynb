{
 "cells": [
  {
   "cell_type": "markdown",
   "source": [
    "# 多重继承"
   ],
   "metadata": {}
  },
  {
   "cell_type": "markdown",
   "source": [
    "## `.__bases__`\r\n",
    "\r\n",
    "`类名.__bases__` 这个属性可以原来获取当前类的所有父类"
   ],
   "metadata": {}
  },
  {
   "cell_type": "code",
   "execution_count": null,
   "source": [
    "class A:\r\n",
    "    def test_a(self) -> None:\r\n",
    "        print('AAA')\r\n",
    "\r\n",
    "\r\n",
    "class B:\r\n",
    "    def test_b(self) -> None:\r\n",
    "        print('BBB')\r\n",
    "\r\n",
    "\r\n",
    "class C(B):\r\n",
    "    pass\r\n",
    "\r\n",
    "\r\n",
    "c_1 = C()\r\n",
    "c_1.test_b()\r\n",
    "\r\n",
    "print(f'C.__bases__ = {C.__bases__}')\r\n",
    "print(f'type(C.__bases__) = {type(C.__bases__)}')\r\n",
    "print(f'A.__bases__ = {A.__bases__}')"
   ],
   "outputs": [],
   "metadata": {}
  },
  {
   "cell_type": "markdown",
   "source": [
    "- Python 支持多重继承，也就是说可以为一个类同时指定多个父类\r\n",
    "- 可以在类名的 `()` 后面添加多个类来实现多重继承\r\n",
    "- 在开发中没有特殊情况应该尽量避免使用多重继承\r\n",
    "  - 因为多重继承会让代码过于复杂\r\n",
    "- 如果多个父类中有同名的方法，则会先在第一个父类中寻找，然后找第二个、第三个\r\n",
    "  - 前边父类的方法会“覆盖”后边父类的方法"
   ],
   "metadata": {}
  },
  {
   "cell_type": "code",
   "execution_count": null,
   "source": [
    "class A:\r\n",
    "    def test_a(self) -> None:\r\n",
    "        print('AAA')\r\n",
    "\r\n",
    "\r\n",
    "class B:\r\n",
    "    def test_b(self) -> None:\r\n",
    "        print('BBB')\r\n",
    "\r\n",
    "\r\n",
    "class C(A, B):\r\n",
    "    pass\r\n",
    "\r\n",
    "\r\n",
    "c_1 = C()\r\n",
    "c_1.test_a()\r\n",
    "c_1.test_b()\r\n",
    "\r\n",
    "print(f'C.__bases__ = {C.__bases__}')\r\n",
    "print(f'type(C.__bases__) = {type(C.__bases__)}')\r\n",
    "print(f'A.__bases__ = {A.__bases__}')"
   ],
   "outputs": [],
   "metadata": {}
  }
 ],
 "metadata": {
  "orig_nbformat": 4,
  "language_info": {
   "name": "python",
   "version": "3.9.7",
   "mimetype": "text/x-python",
   "codemirror_mode": {
    "name": "ipython",
    "version": 3
   },
   "pygments_lexer": "ipython3",
   "nbconvert_exporter": "python",
   "file_extension": ".py"
  },
  "kernelspec": {
   "name": "python3",
   "display_name": "Python 3.9.7 64-bit (system)"
  },
  "interpreter": {
   "hash": "74c7218724031fd2ef8447a3bbda77489cffef548a027660cea6b63e0f8437c7"
  }
 },
 "nbformat": 4,
 "nbformat_minor": 2
}