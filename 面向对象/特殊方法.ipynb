{
 "cells": [
  {
   "cell_type": "markdown",
   "metadata": {},
   "source": [
    "# 特殊方法"
   ]
  },
  {
   "cell_type": "markdown",
   "metadata": {},
   "source": [
    "- 特殊方法也称为魔术方法\n",
    "- 特殊方法都是使用 `__` 开头和结尾\n",
    "- 特殊方法一般不需要手动调用，需要在一些特殊情况下自动执行"
   ]
  },
  {
   "cell_type": "markdown",
   "metadata": {},
   "source": [
    "## `.__str__()`\n",
    "\n",
    "- 当打印一个对象时，实际上打印的是对象的特殊方法 `.__str__()` 的返回值\n",
    "- 这个特殊方法会在尝试将对象转换为字符串的时候调用\n",
    "- 可以用来指定对象转换为字符串的结果\n",
    "\n",
    "## `.__repr__()`\n",
    "\n",
    "- 这个特殊方法会在对当前对象使用 `repr()` 函数时调用\n",
    "- 可以用来指定对象在 `交互模式` 中直接输出的效果"
   ]
  },
  {
   "cell_type": "code",
   "execution_count": null,
   "metadata": {},
   "outputs": [],
   "source": [
    "class Person():\n",
    "    def __init__(self, name: str, age: int) -> None:\n",
    "        self._name = name\n",
    "        self._age = age\n",
    "\n",
    "    def __str__(self) -> str:\n",
    "        return self._name\n",
    "\n",
    "\n",
    "issac = Person('Issac', 19)\n",
    "accker = Person('Accker', 19)\n",
    "\n",
    "print(issac)\n",
    "print(accker)"
   ]
  },
  {
   "cell_type": "markdown",
   "metadata": {},
   "source": [
    "## `.__lt__(self, other)`\n",
    "\n",
    "- 小于\n",
    "\n",
    "## `.__le__(self, other)`\n",
    "\n",
    "- 小于等于\n",
    "\n",
    "## `.__eq__(self, other)`\n",
    "\n",
    "- 等于\n",
    "\n",
    "## `.__ne__(self, other)`\n",
    "\n",
    "- 不等于\n",
    "\n",
    "## `.__gt__(self, other)`\n",
    "\n",
    "- 大于\n",
    "- 该特殊方法会在对象做大于比较时调用\n",
    "- 该方法的返回值将会作为比较的结果\n",
    "\n",
    "## `.__ge__(self, other)`\n",
    "\n",
    "- 大于等于"
   ]
  },
  {
   "cell_type": "code",
   "execution_count": null,
   "metadata": {},
   "outputs": [],
   "source": [
    "class Person():\n",
    "    def __init__(self, name: str, age: int) -> None:\n",
    "        self._name = name\n",
    "        self._age = age\n",
    "\n",
    "    def __gt__(self, other) -> bool:\n",
    "        return self._age > other._age\n",
    "\n",
    "\n",
    "issac = Person('Issac', 20)\n",
    "accker = Person('Accker', 19)\n",
    "\n",
    "print(issac > accker)\n",
    "print(accker > issac)"
   ]
  },
  {
   "cell_type": "markdown",
   "metadata": {},
   "source": [
    "## `.__len__()`\n",
    "\n",
    "- 获取对象的长度\n",
    "\n",
    "## `.__bool__()`\n",
    "\n",
    "- 通过该特殊方法指定对象转换为布尔值的情况"
   ]
  },
  {
   "cell_type": "code",
   "execution_count": null,
   "metadata": {},
   "outputs": [],
   "source": [
    "class Person():\n",
    "    def __init__(self, name: str, age: int) -> None:\n",
    "        self._name = name\n",
    "        self._age = age\n",
    "\n",
    "    def __bool__(self) -> bool:\n",
    "        return self._age >= 18\n",
    "\n",
    "\n",
    "issac = Person('Issac', 19)\n",
    "accker = Person('Accker', 17)\n",
    "\n",
    "print(f'bool(issac) = {bool(issac)}')\n",
    "print(f'bool(accker) = {bool(accker)}')"
   ]
  }
 ],
 "metadata": {
  "interpreter": {
   "hash": "74c7218724031fd2ef8447a3bbda77489cffef548a027660cea6b63e0f8437c7"
  },
  "kernelspec": {
   "display_name": "Python 3.10.0 64-bit (system)",
   "name": "python3"
  },
  "language_info": {
   "codemirror_mode": {
    "name": "ipython",
    "version": 3
   },
   "file_extension": ".py",
   "mimetype": "text/x-python",
   "name": "python",
   "nbconvert_exporter": "python",
   "pygments_lexer": "ipython3",
   "version": "3.10.0"
  },
  "orig_nbformat": 4
 },
 "nbformat": 4,
 "nbformat_minor": 2
}
