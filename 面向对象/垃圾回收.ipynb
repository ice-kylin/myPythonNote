{
 "cells": [
  {
   "cell_type": "markdown",
   "metadata": {},
   "source": [
    "# 垃圾回收"
   ]
  },
  {
   "cell_type": "markdown",
   "metadata": {},
   "source": [
    "- 就像生活中会产生垃圾一样，程序在运行过程当中也会产生垃圾\n",
    "- 程序运行过程中产生的垃圾会影响到程序的性能\n",
    "- 所以这些垃圾必须被及时的清理\n",
    "- 没用的东西就是垃圾\n",
    "  - 在程序中没有被引用的对象就是垃圾\n",
    "  - 这种垃圾对象过多会影响到程序的运行的性能\n",
    "  - 所以必须及时的进行垃圾回收\n",
    "- 所谓的垃圾回收就是将垃圾对象从内存中删除\n",
    "  - 在 Python 中有自动的垃圾回收机制\n",
    "  - 它会自动的将这些没有被引用的对象删除\n",
    "  - 所以不用手动处理垃圾回收"
   ]
  },
  {
   "cell_type": "markdown",
   "metadata": {},
   "source": [
    "## `.__del__()`\n",
    "\n",
    "- `.__del()__` 是一个特殊方法\n",
    "- 它会在对象被垃圾回收前调用"
   ]
  },
  {
   "cell_type": "code",
   "execution_count": null,
   "metadata": {},
   "outputs": [],
   "source": [
    "class A:\n",
    "    def __init__(self, name: str) -> None:\n",
    "        self._name = name\n",
    "\n",
    "    def __del__(self) -> None:\n",
    "        print(f'{self.name} 对象被删除了 QAQ')\n",
    "\n",
    "    @property\n",
    "    def name(self) -> str:\n",
    "        return self._name\n",
    "\n",
    "a = A('Issac')\n",
    "\n",
    "print(a.name)\n",
    "\n",
    "# b = a\n",
    "\n",
    "# a = None # 将 a 设置为了 None，此时没有任何的变量对 A() 对象进行引用，它就变成了垃圾"
   ]
  }
 ],
 "metadata": {
  "interpreter": {
   "hash": "74c7218724031fd2ef8447a3bbda77489cffef548a027660cea6b63e0f8437c7"
  },
  "kernelspec": {
   "display_name": "Python 3.10.0 64-bit (system)",
   "name": "python3"
  },
  "language_info": {
   "codemirror_mode": {
    "name": "ipython",
    "version": 3
   },
   "file_extension": ".py",
   "mimetype": "text/x-python",
   "name": "python",
   "nbconvert_exporter": "python",
   "pygments_lexer": "ipython3",
   "version": "3.10.0"
  },
  "orig_nbformat": 4
 },
 "nbformat": 4,
 "nbformat_minor": 2
}
