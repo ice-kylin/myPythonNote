{
 "cells": [
  {
   "cell_type": "markdown",
   "source": [
    "# 多态"
   ],
   "metadata": {}
  },
  {
   "cell_type": "markdown",
   "source": [
    "- 多态是面向对象的三大特征之一\r\n",
    "- 多态字面上理解是多种形态\r\n",
    "  - 狗\r\n",
    "    - 狼狗\r\n",
    "    - 藏獒\r\n",
    "    - 哈士奇\r\n",
    "    - ...\r\n",
    "- 一个对象可以以不同的形态去呈现\r\n",
    "- 违反了多态的函数，只适用于一种类型的对象，无法处理其它类型的对象，这样导致函数的适用性非常的差\r\n",
    "  - 像 `isinstance()` 这种函数一般在开发中不会使用"
   ],
   "metadata": {}
  },
  {
   "cell_type": "code",
   "execution_count": null,
   "source": [
    "class A:\r\n",
    "    def __init__(self, name: str) -> None:\r\n",
    "        self._name = name\r\n",
    "\r\n",
    "    @property\r\n",
    "    def name(self) -> str:\r\n",
    "        return self._name\r\n",
    "\r\n",
    "    @name.setter\r\n",
    "    def name(self, name: str) -> None:\r\n",
    "        self._name = name\r\n",
    "\r\n",
    "\r\n",
    "class B:\r\n",
    "    def __init__(self, name: str) -> None:\r\n",
    "        self._name = name\r\n",
    "\r\n",
    "    @property\r\n",
    "    def name(self) -> str:\r\n",
    "        return self._name\r\n",
    "\r\n",
    "    @name.setter\r\n",
    "    def name(self, name: str) -> None:\r\n",
    "        self._name = name\r\n",
    "\r\n",
    "\r\n",
    "def print_hello(obj):\r\n",
    "    if isinstance(obj, A):\r\n",
    "        print(f'Hello {obj.name}!')\r\n",
    "\r\n",
    "\r\n",
    "a = A('Issac')\r\n",
    "b = B('Acker')\r\n",
    "\r\n",
    "print_hello(a)\r\n",
    "print_hello(b)"
   ],
   "outputs": [],
   "metadata": {}
  },
  {
   "cell_type": "markdown",
   "source": [
    "## 鸭子类型\r\n",
    "\r\n",
    "*如果一个东西，走路像 🦆，叫声像 🦆，那么它就是 🦆。*\r\n",
    "\r\n",
    "### `len()`\r\n",
    "\r\n",
    "- 之所以一个对象能通过 `len()` 来获取长度，是因为对象中具有一个特殊方法 `__len__`\r\n",
    "- 换句话说，只要对象中具有 `__len__` 特殊方法，就可以通过 `len()` 来获取它的长度"
   ],
   "metadata": {}
  },
  {
   "cell_type": "code",
   "execution_count": null,
   "source": [
    "class Duck:\r\n",
    "    def __init__(self, name: str, height: int) -> None:\r\n",
    "        self._name = name\r\n",
    "        self._height = height\r\n",
    "\r\n",
    "    @property\r\n",
    "    def height(self) -> int:\r\n",
    "        return self._height\r\n",
    "\r\n",
    "    @height.setter\r\n",
    "    def height(self, height: int) -> None:\r\n",
    "        if isinstance(height, int):\r\n",
    "            self._height = height\r\n",
    "\r\n",
    "    @property\r\n",
    "    def name(self) -> str:\r\n",
    "        return self._name\r\n",
    "\r\n",
    "    @name.setter\r\n",
    "    def name(self, name: str) -> None:\r\n",
    "        if isinstance(name, str):\r\n",
    "            self._name = name\r\n",
    "\r\n",
    "    def __len__(self) -> int:\r\n",
    "        return self._height\r\n",
    "\r\n",
    "\r\n",
    "str_1 = 'Issac'\r\n",
    "list_1 = [1, 2, 3, 4, 5, 6]\r\n",
    "dict_1 = dict(A='a', B='b', C='c', D='d')\r\n",
    "tuple_1 = (1, 2, 3, 4, 5, 6)\r\n",
    "d_1 = Duck('Issac', 19)\r\n",
    "\r\n",
    "print(f'str_1.__len__() = {str_1.__len__()}, len(str_1) = {len(str_1)}')\r\n",
    "print(f'list_1.__len__() = {list_1.__len__()}, len(list_1) = {len(list_1)}')\r\n",
    "print(f'dict_1.__len__() = {dict_1.__len__()}, len(dict_1) = {len(dict_1)}')\r\n",
    "print(\r\n",
    "    f'tuple_1.__len__() = {tuple_1.__len__()}, len(tuple_1) = {len(tuple_1)}')\r\n",
    "print(f'd_1.__len__() = {d_1.__len__()}, len(d_1) = {len(d_1)}')"
   ],
   "outputs": [],
   "metadata": {}
  }
 ],
 "metadata": {
  "orig_nbformat": 4,
  "language_info": {
   "name": "python",
   "version": "3.9.7",
   "mimetype": "text/x-python",
   "codemirror_mode": {
    "name": "ipython",
    "version": 3
   },
   "pygments_lexer": "ipython3",
   "nbconvert_exporter": "python",
   "file_extension": ".py"
  },
  "kernelspec": {
   "name": "python3",
   "display_name": "Python 3.9.7 64-bit (system)"
  },
  "interpreter": {
   "hash": "74c7218724031fd2ef8447a3bbda77489cffef548a027660cea6b63e0f8437c7"
  }
 },
 "nbformat": 4,
 "nbformat_minor": 2
}