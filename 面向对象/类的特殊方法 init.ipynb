{
 "cells": [
  {
   "cell_type": "markdown",
   "source": [
    "# 类的特殊方法 init"
   ],
   "metadata": {}
  },
  {
   "cell_type": "markdown",
   "source": [
    "- 对于 `Person` 类来说 `name` 是**必须**的，并且每一个对象中的 `name` 属性基本上都是**不同**的\n",
    "- 希望：\n",
    "  1. 创建对象时必须设置 `name` 属性，如果不设置对象将无法创建\n",
    "  2. 属性的创建应该是自动的，而不是在创建对象以后手动完成"
   ],
   "metadata": {}
  },
  {
   "cell_type": "code",
   "execution_count": null,
   "source": [
    "class Person:\n",
    "    def print_hello(self):\n",
    "        print(f'Hello! My name is {self.name}.')\n",
    "\n",
    "\n",
    "p_1 = Person()\n",
    "\n",
    "p_1.print_hello()"
   ],
   "outputs": [],
   "metadata": {}
  },
  {
   "cell_type": "markdown",
   "source": [
    "- 在类中可以定义一些特殊方法（魔术方法）\n",
    "  - 特殊方法都是以 `__` 开头，`__` 结尾\n",
    "  - 特殊方法不需要自己调用，不要尝试去调用特殊方法\n",
    "  - 特殊方法将会在特殊的时刻自动调用\n",
    "  - 学习特殊方法：\n",
    "    1. 特殊方法什么时候调用\n",
    "    2. 特殊方法有什么作用"
   ],
   "metadata": {}
  },
  {
   "cell_type": "code",
   "execution_count": null,
   "source": [
    "class Person:\n",
    "    def __init__(self) -> None:\n",
    "        print('Hello')\n",
    "\n",
    "    def print_hello(self):\n",
    "        print(f'Hello! My name is {self.name}.')\n",
    "\n",
    "\n",
    "p_1 = Person()\n",
    "\n",
    "# p_1.__init__()\n",
    "# p_1.print_hello()"
   ],
   "outputs": [],
   "metadata": {}
  },
  {
   "cell_type": "markdown",
   "source": [
    "## 创建对象的流程\n",
    "\n",
    "1. 创建一个变量\n",
    "2. 在内存中创建一个新对象\n",
    "3. `__init__(self)` 方法执行\n",
    "  - `__init__(self)` 会在对象创建以后立即执行\n",
    "  - `__init__(self)` 可以用来向新创建的对象初始化属性\n",
    "4. 将对象的 `id` 赋值给变量\n",
    "\n",
    "## 类的基本结构\n",
    "\n",
    "```\n",
    "class 类名([父类]):\n",
    "    公共属性...\n",
    "\n",
    "    # 对象的初始化方法\n",
    "    def __init__(self, ...) -> None:\n",
    "        ...\n",
    "\n",
    "    # 其它方法\n",
    "    def 方法名(self, ...):\n",
    "        ...\n",
    "\n",
    "    ...\n",
    "```"
   ],
   "metadata": {}
  },
  {
   "cell_type": "code",
   "execution_count": null,
   "source": [
    "class Person:\n",
    "    def __init__(self, name) -> None:\n",
    "        self.name = name\n",
    "\n",
    "    def print_hello(self):\n",
    "        print(f'Hello! My name is {self.name}.')\n",
    "\n",
    "\n",
    "p_1 = Person('icekylin')\n",
    "p_1.print_hello()\n",
    "\n",
    "p_2 = Person('Acker')\n",
    "p_2.print_hello()\n",
    "\n",
    "p_3 = Person('Issac')\n",
    "p_3.print_hello()"
   ],
   "outputs": [],
   "metadata": {}
  }
 ],
 "metadata": {
  "orig_nbformat": 4,
  "language_info": {
   "name": "python",
   "version": "3.9.7",
   "mimetype": "text/x-python",
   "codemirror_mode": {
    "name": "ipython",
    "version": 3
   },
   "pygments_lexer": "ipython3",
   "nbconvert_exporter": "python",
   "file_extension": ".py"
  },
  "kernelspec": {
   "name": "python3",
   "display_name": "Python 3.9.7 64-bit"
  },
  "interpreter": {
   "hash": "e7370f93d1d0cde622a1f8e1c04877d8463912d04d973331ad4851f04de6915a"
  }
 },
 "nbformat": 4,
 "nbformat_minor": 2
}