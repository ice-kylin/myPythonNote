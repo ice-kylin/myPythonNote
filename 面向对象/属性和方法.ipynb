{
 "cells": [
  {
   "cell_type": "markdown",
   "source": [
    "# 属性和方法"
   ],
   "metadata": {}
  },
  {
   "cell_type": "markdown",
   "source": [
    "## 类属性\r\n",
    "\r\n",
    "- 直接在类中定义的属性是类属性\r\n",
    "  - 类属性可以通过类或类的实例访问到\r\n",
    "  - 但是类属性只能通过类对象来修改，无法通过实例对象修改\r\n",
    "\r\n",
    "## 实例属性\r\n",
    "\r\n",
    "- 通过实例对象添加的属性属于实例属性\r\n",
    "  - 实例属性只能通过实例对象来访问和修改，类对象无法访问修改\r\n",
    "\r\n",
    "## 实例方法\r\n",
    "\r\n",
    "- 在类中定义，以 `self` 为第一个参数的方法都是实例方法\r\n",
    "  - 实例方法在调用时，Python 会将调用对象作为 `self` 传入\r\n",
    "  - 实例方法可以通过实例和类调用\r\n",
    "    - 当通过实例调用时，会自动将当前调用对象作为 `self` 传递\r\n",
    "    - 当通过类调用时，不会自动传递 `self`\r\n",
    "\r\n",
    "## 类方法\r\n",
    "\r\n",
    "- 在类内部使用 `@classmethod` 来修饰的方法属于类方法\r\n",
    "  - 类方法的第一个参数是 `cls`，也会被自动传递\r\n",
    "  - `cls` 就是当前的类对象\r\n",
    "  - 类方法和实例方法的区别\r\n",
    "    - 实例方法的第一个参数是 `self`\r\n",
    "    - 类方法的第一个参数是 `cls`\r\n",
    "  - 类方法可以通过类去调用，也可以通过实例调用，没有区别\r\n",
    "\r\n",
    "## 静态方法\r\n",
    "\r\n",
    "- 在类中使用 `@staticmethod` 来修饰的方法属于静态方法\r\n",
    "  - 静态方法不需要指定任何的默认参数\r\n",
    "  - 静态方法可以通过类和实例去调用\r\n",
    "  - 静态方法基本上是一个和当前类无关的方法，它只是一个保存到当前类中的函数\r\n",
    "  - 静态方法一般都是一些工具方法，和当前类关系不大"
   ],
   "metadata": {}
  },
  {
   "cell_type": "code",
   "execution_count": null,
   "source": [
    "class A:\r\n",
    "    # 类属性\r\n",
    "    count = 0\r\n",
    "\r\n",
    "    # 实例方法\r\n",
    "    def test(self) -> None:\r\n",
    "        print(f'test: {self}')\r\n",
    "\r\n",
    "    # 类方法\r\n",
    "    @classmethod\r\n",
    "    def test_2(cls) -> None:\r\n",
    "        print(f'test_2: {cls}')\r\n",
    "\r\n",
    "    # 静态方法\r\n",
    "    @staticmethod\r\n",
    "    def test_3() -> None:\r\n",
    "        print('test_3')\r\n",
    "\r\n",
    "\r\n",
    "a = A()\r\n",
    "\r\n",
    "print(f'A.count() = {A.count}')\r\n",
    "print(f'a.count() = {a.count}\\n')\r\n",
    "\r\n",
    "A.count = 100\r\n",
    "\r\n",
    "print(f'A.count() = {A.count}')\r\n",
    "print(f'a.count() = {a.count}\\n')\r\n",
    "\r\n",
    "# 实例属性\r\n",
    "a.count = 10\r\n",
    "\r\n",
    "print(f'A.count() = {A.count}')\r\n",
    "print(f'a.count() = {a.count}')\r\n",
    "\r\n",
    "a.test()  # 等价\r\n",
    "A.test(a)  # 等价\r\n",
    "\r\n",
    "A.test_2()  # 等价\r\n",
    "a.test_2()  # 等价\r\n",
    "\r\n",
    "A.test_3()  # 等价\r\n",
    "a.test_3()  # 等价"
   ],
   "outputs": [],
   "metadata": {}
  }
 ],
 "metadata": {
  "orig_nbformat": 4,
  "language_info": {
   "name": "python",
   "version": "3.9.7",
   "mimetype": "text/x-python",
   "codemirror_mode": {
    "name": "ipython",
    "version": 3
   },
   "pygments_lexer": "ipython3",
   "nbconvert_exporter": "python",
   "file_extension": ".py"
  },
  "kernelspec": {
   "name": "python3",
   "display_name": "Python 3.9.7 64-bit (system)"
  },
  "interpreter": {
   "hash": "74c7218724031fd2ef8447a3bbda77489cffef548a027660cea6b63e0f8437c7"
  }
 },
 "nbformat": 4,
 "nbformat_minor": 2
}