{
 "cells": [
  {
   "cell_type": "markdown",
   "source": [
    "# 方法的重写"
   ],
   "metadata": {}
  },
  {
   "cell_type": "markdown",
   "source": [
    "- 如果在子类中有和父类同名的方法，则通过子类实例去调用方法时会调用子类的方法而不是父类的方法\r\n",
    "- 这个特点称为方法的重写 / 覆盖（override）"
   ],
   "metadata": {}
  },
  {
   "cell_type": "code",
   "execution_count": null,
   "source": [
    "class Animal:\r\n",
    "    def __init__(self, name: str) -> None:\r\n",
    "        self._name = name\r\n",
    "\r\n",
    "    def run(self) -> None:\r\n",
    "        print(f'{self._name} is running!')\r\n",
    "\r\n",
    "    def sleep(self) -> None:\r\n",
    "        print(f'{self._name} is sleeping!')\r\n",
    "\r\n",
    "\r\n",
    "class Dog(Animal):\r\n",
    "    def bark(self) -> None:\r\n",
    "        print(f'{self._name} is barking!')\r\n",
    "\r\n",
    "    def run(self) -> None:\r\n",
    "        print(f'Dog {self._name} is running!')\r\n",
    "\r\n",
    "\r\n",
    "d_1 = Dog('Issac')\r\n",
    "d_1.run()\r\n",
    "d_1.sleep()\r\n",
    "d_1.bark()\r\n",
    "\r\n",
    "print(f'\\nisinstance(d_1, Dog) = {isinstance(d_1, Dog)}')\r\n",
    "print(f'isinstance(d_1, Animal) = {isinstance(d_1, Animal)}')"
   ],
   "outputs": [],
   "metadata": {}
  },
  {
   "cell_type": "markdown",
   "source": [
    "- 当调用一个对象的方法时\r\n",
    "  - 会优先去当前对象中寻找是否具有该方法\r\n",
    "    - 如果有，则直接调用\r\n",
    "    - 如果没有，则去当前对象的父类中寻找\r\n",
    "  - 如果父类中有则直接调用父类中的方法\r\n",
    "  - 如果没有则去父类的父类中寻找，以此类推\r\n",
    "  - 直到找到 `object`\r\n",
    "    - 如果依然没有找到，则抛出异常"
   ],
   "metadata": {}
  }
 ],
 "metadata": {
  "orig_nbformat": 4,
  "language_info": {
   "name": "python",
   "version": "3.9.7",
   "mimetype": "text/x-python",
   "codemirror_mode": {
    "name": "ipython",
    "version": 3
   },
   "pygments_lexer": "ipython3",
   "nbconvert_exporter": "python",
   "file_extension": ".py"
  },
  "kernelspec": {
   "name": "python3",
   "display_name": "Python 3.9.7 64-bit (system)"
  },
  "interpreter": {
   "hash": "74c7218724031fd2ef8447a3bbda77489cffef548a027660cea6b63e0f8437c7"
  }
 },
 "nbformat": 4,
 "nbformat_minor": 2
}