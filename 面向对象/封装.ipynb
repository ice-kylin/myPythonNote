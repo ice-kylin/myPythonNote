{
 "cells": [
  {
   "cell_type": "markdown",
   "metadata": {},
   "source": [
    "# 封装"
   ]
  },
  {
   "cell_type": "markdown",
   "metadata": {},
   "source": [
    "- 目前可以直接通过 `对象.属性` 的方式来修改属性的值，导致对象中的属性可以随意修改，非常不安全\n",
    "- 需要一种方式增强数据的安全性\n",
    "  1. 属性不能随意修改\n",
    "  2. 属性不能修改为任意值"
   ]
  }
 ],
 "metadata": {
  "language_info": {
   "name": "python"
  },
  "orig_nbformat": 4
 },
 "nbformat": 4,
 "nbformat_minor": 2
}
