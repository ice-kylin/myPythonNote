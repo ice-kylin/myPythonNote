{
 "cells": [
  {
   "cell_type": "markdown",
   "metadata": {},
   "source": [
    "# 封装"
   ]
  },
  {
   "cell_type": "markdown",
   "metadata": {},
   "source": [
    "- 目前可以直接通过 `对象.属性` 的方式来修改属性的值，导致对象中的属性可以随意修改，非常不安全\n",
    "- 需要一种方式增强数据的安全性\n",
    "  1. 属性不能随意修改\n",
    "  2. 属性不能修改为任意值"
   ]
  },
  {
   "cell_type": "code",
   "execution_count": null,
   "metadata": {},
   "outputs": [],
   "source": [
    "class Dog:\n",
    "    def __init__(self, name) -> None:\n",
    "        self.name = name\n",
    "\n",
    "    def print_eat(self) -> None:\n",
    "        print(f'{self.name} is eating!')\n",
    "\n",
    "\n",
    "dog_1 = Dog('Issac')\n",
    "dog_1.print_eat()\n",
    "\n",
    "dog_1.name = 'Acker'\n",
    "dog_1.print_eat()\n",
    "\n",
    "del dog_1.name\n",
    "# dog_1.print_eat()"
   ]
  },
  {
   "cell_type": "markdown",
   "metadata": {},
   "source": [
    "- 封装是面向对象的三大特性之一\n",
    "- 封装指的是隐藏对象中一些不希望被外部所访问到的属性或方法\n",
    "- 使用封装，确实增加了类的定义的复杂程度，但是也确保了数据的安全性\n",
    "  1. 隐藏了属性名，使调用者无法随意的修改对象中的属性\n",
    "  2. 增加了 `getter` 和 `setter` 方法，很好的控制了属性是否是只读的\n",
    "     - 如果希望属性是只读的，则可以去掉 `setter` 方法\n",
    "     - 如果希望属性不能被外部访问，则可以直接去掉 `getter` 方法\n",
    "  3. 使用 `setter` 方法设置属性，可以增加数据的验证，确保数据的值是正确的\n",
    "  4. 使用 `getter` 方法获取属性，使用 `setter` 方法设置属性\n",
    "     - 可以在读取属性和修改属性的同时做一些其它的处理\n",
    "  5. 使用 `getter` 方法可以表示一些计算的属性\n",
    "- 如何隐藏一个对象中的属性\n",
    "  - 将对象的属性名修改为一个外部不知道的名字（`hidden_属性名`）\n",
    "  - 可以为对象的属性使用 `__` 开头\n",
    "    - `__` 开头的属性，是对象的隐藏属性\n",
    "    - 隐藏属性只能在类的内部访问，无法通过对象访问\n",
    "    - 其实隐藏属性只不过是 Python 自动为属性改了一个名字\n",
    "      - 实际上是将名字修改为了 `_类名__属性名`\n",
    "    - 实际上依然可以在外部访问，所以这种方式**一般不用**\n",
    "  - 以 `_` 开头\n",
    "    - 一般情况下，使用 `_` 开头的都是私有属性，没有特殊需要不要修改特殊属性\n",
    "- 如何获取（修改）对象中的属性\n",
    "  - 需要提供一个 `getter` 和 `setter` 方法使外部可以访问到该属性\n",
    "    - `getter`（`get_属性名`）—— 获取对象中的指定属性\n",
    "    - `setter`（`set_属性名`）—— 设置对象中的指定属性"
   ]
  },
  {
   "cell_type": "code",
   "execution_count": null,
   "metadata": {},
   "outputs": [],
   "source": [
    "class Dog:\n",
    "    def __init__(self, name: str, age: int) -> None:\n",
    "        self.__dog_name = name\n",
    "        self.__age = age\n",
    "\n",
    "    def print_eat(self) -> None:\n",
    "        print(f'{self.__dog_name} is eating!\\n')\n",
    "\n",
    "    def get_name(self) -> str:\n",
    "        return self.__dog_name\n",
    "\n",
    "    def set_name(self, name: str) -> None:\n",
    "        self.__dog_name = name\n",
    "\n",
    "    def get_age(self) -> int:\n",
    "        return self.__age\n",
    "\n",
    "    def set_age(self, age: int) -> None:\n",
    "        if age > 0:\n",
    "            self.__age = age\n",
    "\n",
    "\n",
    "dog_1 = Dog('Issac', 19)\n",
    "dog_1.print_eat()\n",
    "\n",
    "dog_1.name = 'Acker'\n",
    "dog_1.print_eat()\n",
    "\n",
    "print(f'dog_1.get_name() = {dog_1.get_name()}\\n')\n",
    "\n",
    "dog_1.set_name('Andrew')\n",
    "dog_1.print_eat()\n",
    "\n",
    "print(f'dog_1.get_age() = {dog_1.get_age()}\\n')\n",
    "dog_1.set_age(10)\n",
    "print(f'dog_1.get_age() = {dog_1.get_age()}\\n')\n",
    "dog_1.set_age(-10)\n",
    "print(f'dog_1.get_age() = {dog_1.get_age()}\\n')"
   ]
  }
 ],
 "metadata": {
  "interpreter": {
   "hash": "74c7218724031fd2ef8447a3bbda77489cffef548a027660cea6b63e0f8437c7"
  },
  "kernelspec": {
   "display_name": "Python 3.9.7 64-bit (system)",
   "name": "python3"
  },
  "language_info": {
   "codemirror_mode": {
    "name": "ipython",
    "version": 3
   },
   "file_extension": ".py",
   "mimetype": "text/x-python",
   "name": "python",
   "nbconvert_exporter": "python",
   "pygments_lexer": "ipython3",
   "version": "3.9.7"
  },
  "orig_nbformat": 4
 },
 "nbformat": 4,
 "nbformat_minor": 2
}
