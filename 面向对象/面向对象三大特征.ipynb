{
 "cells": [
  {
   "cell_type": "markdown",
   "source": [
    "# 面向对象三大特征"
   ],
   "metadata": {}
  },
  {
   "cell_type": "markdown",
   "source": [
    "- 封装\r\n",
    "  - 确保对象中的数据安全\r\n",
    "- 继承\r\n",
    "  - 保证了对象的可扩展性\r\n",
    "- 多态\r\n",
    "  - 保证了程序的灵活性"
   ],
   "metadata": {}
  }
 ],
 "metadata": {
  "orig_nbformat": 4,
  "language_info": {
   "name": "python"
  }
 },
 "nbformat": 4,
 "nbformat_minor": 2
}