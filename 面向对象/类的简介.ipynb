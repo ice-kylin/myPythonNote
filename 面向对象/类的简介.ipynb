{
 "cells": [
  {
   "cell_type": "markdown",
   "source": [
    "# 类（Class）的简介"
   ],
   "metadata": {}
  },
  {
   "cell_type": "markdown",
   "source": [
    "- 目前所学的对象都是 Python 内置的对象\n",
    "- 但是内置对象并不能满足所有的需求，所以我们在开发中经常需要自定义一些对象\n",
    "- 类\n",
    "  - 简单理解相当于一个图纸\n",
    "  - 在程序中需要根据类来创建对象\n",
    "  - 也称对象是类的实例（instance）\n",
    "  - 如果多个对象是通过一个类创建的，称这些对象是一类对象\n",
    "  - 自定义的类都需要使用大写字母开头，使用大驼峰命名法（帕斯卡命名法）来对类命名"
   ],
   "metadata": {}
  },
  {
   "cell_type": "code",
   "execution_count": null,
   "source": [
    "a = int(10)\n",
    "b = str('Hello')\n",
    "\n",
    "print(f'a = {a}')\n",
    "print(f'type(a) = {type(a)}')\n",
    "print(f'b = {b}')\n",
    "print(f'type(b) = {type(b)}')"
   ],
   "outputs": [],
   "metadata": {}
  },
  {
   "cell_type": "markdown",
   "source": [
    "- 语法：\n",
    "  ```python\n",
    "  class 类名([父类]):\n",
    "      代码块\n",
    "  ```\n",
    "- `isinstance()` 用来检查一个对象是否是一个类的实例\n",
    "- 类是 `type` 类型的对象，定义类实际上就是定义了一个 `type` 类型的对象"
   ],
   "metadata": {}
  },
  {
   "cell_type": "code",
   "execution_count": null,
   "source": [
    "class MyClass():\n",
    "    pass\n",
    "\n",
    "\n",
    "print(f'MyClass = {MyClass}')\n",
    "print(f'id(MyClass) = {id(MyClass)}')\n",
    "print(f'type(MyClass) = {type(MyClass)}\\n')\n",
    "\n",
    "# 使用类来创建对象，就像调用一个函数一样\n",
    "mc = MyClass()  # mc 就是通过 MyClass 创建的一个对象，mc 是 MyClass 的实例\n",
    "print(f'mc = {mc}')\n",
    "print(f'type(mc) = {type(mc)}\\n')\n",
    "\n",
    "rst = isinstance(mc, MyClass)\n",
    "print(f'rst = {rst}')"
   ],
   "outputs": [],
   "metadata": {}
  }
 ],
 "metadata": {
  "orig_nbformat": 4,
  "language_info": {
   "name": "python",
   "version": "3.9.7",
   "mimetype": "text/x-python",
   "codemirror_mode": {
    "name": "ipython",
    "version": 3
   },
   "pygments_lexer": "ipython3",
   "nbconvert_exporter": "python",
   "file_extension": ".py"
  },
  "kernelspec": {
   "name": "python3",
   "display_name": "Python 3.9.7 64-bit"
  },
  "interpreter": {
   "hash": "e7370f93d1d0cde622a1f8e1c04877d8463912d04d973331ad4851f04de6915a"
  }
 },
 "nbformat": 4,
 "nbformat_minor": 2
}