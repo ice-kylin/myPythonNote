{
 "cells": [
  {
   "cell_type": "markdown",
   "source": [
    "# 继承"
   ],
   "metadata": {}
  },
  {
   "cell_type": "markdown",
   "source": [
    "- 继承是面向对象的三大特性之一\r\n",
    "- 通过继承可以使一个类获取到其它类中的属性和方法\r\n",
    "- 在定义类时，可以在类名后的括号中指定当前类的父类（超类 / 基类 / super）\r\n",
    "  - 子类（衍生类）可以直接继承父类中的所有属性和方法"
   ],
   "metadata": {}
  },
  {
   "cell_type": "code",
   "execution_count": null,
   "source": [
    "class Animal:\r\n",
    "    def __init__(self, name: str) -> None:\r\n",
    "        self._name = name\r\n",
    "\r\n",
    "    def run(self) -> None:\r\n",
    "        print(f'{self._name} is running!')\r\n",
    "\r\n",
    "    def sleep(self) -> None:\r\n",
    "        print(f'{self._name} is sleeping!')\r\n",
    "\r\n",
    "\r\n",
    "class Dog(Animal):\r\n",
    "    def bark(self) -> None:\r\n",
    "        print(f'{self._name} is barking!')\r\n",
    "\r\n",
    "\r\n",
    "d_1 = Dog('Issac')\r\n",
    "d_1.run()\r\n",
    "d_1.sleep()\r\n",
    "d_1.bark()\r\n",
    "\r\n",
    "print(f'\\nisinstance(d_1, Dog) = {isinstance(d_1, Dog)}')\r\n",
    "print(f'isinstance(d_1, Animal) = {isinstance(d_1, Animal)}')"
   ],
   "outputs": [],
   "metadata": {}
  },
  {
   "cell_type": "markdown",
   "source": [
    "- 通过继承可以直接让子类获取到父类的方法或属性，避免编写重复的代码，并且符合 OCP 原则\r\n",
    "  - 所以经常通过继承来对一个类进行扩展\r\n",
    "- 如果在创建类时省略了父类，则默认父类为 `object`\r\n",
    "  - `object` 是所有类的父类，所有类都继承自 `object`\r\n",
    "  - 所有对象都是 `object` 的实例"
   ],
   "metadata": {}
  }
 ],
 "metadata": {
  "language_info": {
   "name": "python",
   "version": "3.9.7",
   "mimetype": "text/x-python",
   "codemirror_mode": {
    "name": "ipython",
    "version": 3
   },
   "pygments_lexer": "ipython3",
   "nbconvert_exporter": "python",
   "file_extension": ".py"
  },
  "orig_nbformat": 4,
  "kernelspec": {
   "name": "python3",
   "display_name": "Python 3.9.7 64-bit (system)"
  },
  "interpreter": {
   "hash": "74c7218724031fd2ef8447a3bbda77489cffef548a027660cea6b63e0f8437c7"
  }
 },
 "nbformat": 4,
 "nbformat_minor": 2
}