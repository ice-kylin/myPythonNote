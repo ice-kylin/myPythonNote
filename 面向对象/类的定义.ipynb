{
 "cells": [
  {
   "cell_type": "markdown",
   "source": [
    "# 类的定义"
   ],
   "metadata": {}
  },
  {
   "cell_type": "markdown",
   "source": [
    "- 类和对象都是对现实生活的事物或程序中的内容的抽象\n",
    "- 实际上所有的事物都由两部分构成：\n",
    "  1. 数据（属性）\n",
    "  2. 行为（方法）\n",
    "- 在类的代码块中，可以定义变量和函数\n",
    "- 在类中所定义的变量，将会成为所有实例的公共属性\n",
    "- 所有的实例都可以访问这些变量\n",
    "- 在类中也可以定义函数，类中定义的函数称为方法\n",
    "- 方法调用和函数调用的区别\n",
    "  - 如果是函数调用，则调用时传一个参数，就会有几个实参\n",
    "  - 如果是方法调用，**默认传递一个参数**。所以方法中至少要定义一个形参\n",
    "- 在类的代码块中，我们可以定义变量和函数\n",
    "  - 变量会成为该类实例的公共属性，所有该类实例都可以通过 `对象.属性名` 的形式访问\n",
    "  - 函数会成为该类实例的公共方法，所有该类实例都可以通过 `对象.方法名()` 的形式调用方法\n",
    "  - 方法调用时，第一个参数由解析器自动传递，所以定义方法时**至少要定义一个形参**"
   ],
   "metadata": {}
  },
  {
   "cell_type": "code",
   "execution_count": null,
   "source": [
    "class Person:\n",
    "    definition = 'animal'\n",
    "\n",
    "    def eat(a):\n",
    "      print('Eating...')\n",
    "\n",
    "person_1 = Person()\n",
    "person_2 = Person()\n",
    "\n",
    "print(f'person_1.definition = {person_1.definition}')\n",
    "print(f'person_2.definition = {person_2.definition}')\n",
    "\n",
    "person_1.eat()\n",
    "person_2.eat()"
   ],
   "outputs": [],
   "metadata": {}
  }
 ],
 "metadata": {
  "orig_nbformat": 4,
  "language_info": {
   "name": "python",
   "version": "3.9.7",
   "mimetype": "text/x-python",
   "codemirror_mode": {
    "name": "ipython",
    "version": 3
   },
   "pygments_lexer": "ipython3",
   "nbconvert_exporter": "python",
   "file_extension": ".py"
  },
  "kernelspec": {
   "name": "python3",
   "display_name": "Python 3.9.7 64-bit"
  },
  "interpreter": {
   "hash": "e7370f93d1d0cde622a1f8e1c04877d8463912d04d973331ad4851f04de6915a"
  }
 },
 "nbformat": 4,
 "nbformat_minor": 2
}