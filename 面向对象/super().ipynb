{
 "cells": [
  {
   "cell_type": "markdown",
   "source": [
    "# `super()`"
   ],
   "metadata": {}
  },
  {
   "cell_type": "markdown",
   "source": [
    "- 父类中所有的方法都会被子类所继承，包括特殊方法\r\n",
    "- 也可以重写特殊方法"
   ],
   "metadata": {}
  },
  {
   "cell_type": "code",
   "execution_count": null,
   "source": [
    "class Animal:\r\n",
    "    def __init__(self, name: str) -> None:\r\n",
    "        self._name = name\r\n",
    "\r\n",
    "    def run(self) -> None:\r\n",
    "        print(f'{self._name} is running!')\r\n",
    "\r\n",
    "    def sleep(self) -> None:\r\n",
    "        print(f'{self._name} is sleeping!')\r\n",
    "\r\n",
    "    @property\r\n",
    "    def name(self) -> str:\r\n",
    "        return self._name\r\n",
    "\r\n",
    "    @name.setter\r\n",
    "    def name(self, name: str) -> None:\r\n",
    "        if isinstance(name, str):\r\n",
    "            self._name = name\r\n",
    "\r\n",
    "\r\n",
    "class Dog(Animal):\r\n",
    "    def __init__(self, name: str, age: int) -> None:\r\n",
    "        Animal.__init__(self, name)\r\n",
    "        self._age = age\r\n",
    "\r\n",
    "    @property\r\n",
    "    def age(self) -> None:\r\n",
    "        return self._age\r\n",
    "\r\n",
    "    @age.setter\r\n",
    "    def age(self, age: int) -> int:\r\n",
    "        if isinstance(age, int):\r\n",
    "            self._age = age\r\n",
    "\r\n",
    "    def bark(self) -> None:\r\n",
    "        print(f'{self._name} is barking!')\r\n",
    "\r\n",
    "\r\n",
    "d_1 = Dog('Issac', 19)\r\n",
    "\r\n",
    "print(f'\\nd_1.name = {d_1.name}')\r\n",
    "d_1.name = 'Acker'\r\n",
    "print(f'd_1.name = {d_1.name}\\n')\r\n",
    "\r\n",
    "print(f'\\nd_1.age = {d_1.age}')\r\n",
    "d_1.age = 20\r\n",
    "print(f'd_1.age = {d_1.age}\\n')\r\n",
    "\r\n",
    "d_1.run()\r\n",
    "d_1.sleep()\r\n",
    "d_1.bark()\r\n",
    "\r\n",
    "print(f'\\nisinstance(d_1, Dog) = {isinstance(d_1, Dog)}')\r\n",
    "print(f'isinstance(d_1, Animal) = {isinstance(d_1, Animal)}')"
   ],
   "outputs": [],
   "metadata": {}
  },
  {
   "cell_type": "markdown",
   "source": [
    "## `super()`\r\n",
    "\r\n",
    "- `super()` 可以用来获取当前类的父类\r\n",
    "- 并且通过 `super()` 返回对象调用父类方法时，不需要传递 `self`"
   ],
   "metadata": {}
  },
  {
   "cell_type": "code",
   "execution_count": null,
   "source": [
    "class Animal:\r\n",
    "    def __init__(self, name: str) -> None:\r\n",
    "        self._name = name\r\n",
    "\r\n",
    "    def run(self) -> None:\r\n",
    "        print(f'{self._name} is running!')\r\n",
    "\r\n",
    "    def sleep(self) -> None:\r\n",
    "        print(f'{self._name} is sleeping!')\r\n",
    "\r\n",
    "    @property\r\n",
    "    def name(self) -> str:\r\n",
    "        return self._name\r\n",
    "\r\n",
    "    @name.setter\r\n",
    "    def name(self, name: str) -> None:\r\n",
    "        if isinstance(name, str):\r\n",
    "            self._name = name\r\n",
    "\r\n",
    "\r\n",
    "class Dog(Animal):\r\n",
    "    def __init__(self, name: str, age: int) -> None:\r\n",
    "        super().__init__(name)\r\n",
    "        self._age = age\r\n",
    "\r\n",
    "    @property\r\n",
    "    def age(self) -> None:\r\n",
    "        return self._age\r\n",
    "\r\n",
    "    @age.setter\r\n",
    "    def age(self, age: int) -> int:\r\n",
    "        if isinstance(age, int):\r\n",
    "            self._age = age\r\n",
    "\r\n",
    "    def bark(self) -> None:\r\n",
    "        print(f'{self._name} is barking!')\r\n",
    "\r\n",
    "\r\n",
    "d_1 = Dog('Issac', 19)\r\n",
    "\r\n",
    "print(f'\\nd_1.name = {d_1.name}')\r\n",
    "d_1.name = 'Acker'\r\n",
    "print(f'd_1.name = {d_1.name}\\n')\r\n",
    "\r\n",
    "print(f'\\nd_1.age = {d_1.age}')\r\n",
    "d_1.age = 20\r\n",
    "print(f'd_1.age = {d_1.age}\\n')\r\n",
    "\r\n",
    "d_1.run()\r\n",
    "d_1.sleep()\r\n",
    "d_1.bark()\r\n",
    "\r\n",
    "print(f'\\nisinstance(d_1, Dog) = {isinstance(d_1, Dog)}')\r\n",
    "print(f'isinstance(d_1, Animal) = {isinstance(d_1, Animal)}')"
   ],
   "outputs": [],
   "metadata": {}
  }
 ],
 "metadata": {
  "orig_nbformat": 4,
  "language_info": {
   "name": "python",
   "version": "3.9.7",
   "mimetype": "text/x-python",
   "codemirror_mode": {
    "name": "ipython",
    "version": 3
   },
   "pygments_lexer": "ipython3",
   "nbconvert_exporter": "python",
   "file_extension": ".py"
  },
  "kernelspec": {
   "name": "python3",
   "display_name": "Python 3.9.7 64-bit (system)"
  },
  "interpreter": {
   "hash": "74c7218724031fd2ef8447a3bbda77489cffef548a027660cea6b63e0f8437c7"
  }
 },
 "nbformat": 4,
 "nbformat_minor": 2
}