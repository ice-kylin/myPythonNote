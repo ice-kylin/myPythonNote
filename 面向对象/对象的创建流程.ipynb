{
 "cells": [
  {
   "cell_type": "markdown",
   "source": [
    "# 对象的创建流程"
   ],
   "metadata": {}
  },
  {
   "cell_type": "markdown",
   "source": [
    "- 类也是一个对象！\n",
    "- 类就是一个用来创建对象的对象！"
   ],
   "metadata": {}
  },
  {
   "cell_type": "code",
   "execution_count": null,
   "source": [],
   "outputs": [],
   "metadata": {}
  }
 ],
 "metadata": {
  "orig_nbformat": 4,
  "language_info": {
   "name": "python",
   "version": "3.9.7"
  },
  "kernelspec": {
   "name": "python3",
   "display_name": "Python 3.9.7 64-bit"
  },
  "interpreter": {
   "hash": "e7370f93d1d0cde622a1f8e1c04877d8463912d04d973331ad4851f04de6915a"
  }
 },
 "nbformat": 4,
 "nbformat_minor": 2
}