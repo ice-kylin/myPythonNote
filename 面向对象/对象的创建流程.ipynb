{
 "cells": [
  {
   "cell_type": "markdown",
   "source": [
    "# 对象的创建流程"
   ],
   "metadata": {}
  },
  {
   "cell_type": "markdown",
   "source": [
    "- 类也是一个对象！\n",
    "- 类就是一个用来创建对象的对象！\n",
    "\n",
    "1. 创建一个变量\n",
    "2. 在内存中创建一个新对象\n",
    "3. 将对象 `id` 赋值给变量\n",
    "\n",
    "- 可以向对象中添加变量，对象中的变量称为属性\n",
    "  - 语法 `对象.属性名 = 属性值`"
   ],
   "metadata": {}
  },
  {
   "cell_type": "code",
   "execution_count": null,
   "source": [
    "class MyClass:\n",
    "    pass\n",
    "\n",
    "\n",
    "mc = MyClass()\n",
    "mc.name = 'icekylin'\n",
    "\n",
    "print(f'mc.name = {mc.name}')"
   ],
   "outputs": [],
   "metadata": {}
  }
 ],
 "metadata": {
  "orig_nbformat": 4,
  "language_info": {
   "name": "python",
   "version": "3.9.7",
   "mimetype": "text/x-python",
   "codemirror_mode": {
    "name": "ipython",
    "version": 3
   },
   "pygments_lexer": "ipython3",
   "nbconvert_exporter": "python",
   "file_extension": ".py"
  },
  "kernelspec": {
   "name": "python3",
   "display_name": "Python 3.9.7 64-bit"
  },
  "interpreter": {
   "hash": "e7370f93d1d0cde622a1f8e1c04877d8463912d04d973331ad4851f04de6915a"
  }
 },
 "nbformat": 4,
 "nbformat_minor": 2
}