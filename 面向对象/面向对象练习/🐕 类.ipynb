{
 "cells": [
  {
   "cell_type": "markdown",
   "source": [
    "# 🐕 类"
   ],
   "metadata": {}
  },
  {
   "cell_type": "code",
   "execution_count": null,
   "source": [
    "class Dog:\n",
    "    def __init__(self, name: str, age: int, gender: bool) -> None:\n",
    "        self.name = name\n",
    "        self.age = age\n",
    "        self.gender = gender\n",
    "\n",
    "    def print_bark(self):\n",
    "        print(f'{self.name} is barking!')\n",
    "\n",
    "    def print_run(self):\n",
    "        print(f'{self.name} is running!')\n",
    "\n",
    "    def print_age(self):\n",
    "        print(f'{self.name} is {self.age} years old!')\n",
    "\n",
    "    def print_gender(self):\n",
    "        if self.gender:\n",
    "            print(f'{self.name} is male!')\n",
    "        else:\n",
    "            print(f'{self.name} is female!')\n",
    "\n",
    "\n",
    "dog_1 = Dog('Issac', 18, True)\n",
    "dog_1.print_bark()\n",
    "dog_1.print_run()\n",
    "dog_1.print_age()\n",
    "dog_1.print_gender()"
   ],
   "outputs": [],
   "metadata": {}
  }
 ],
 "metadata": {
  "orig_nbformat": 4,
  "language_info": {
   "name": "python",
   "version": "3.9.7",
   "mimetype": "text/x-python",
   "codemirror_mode": {
    "name": "ipython",
    "version": 3
   },
   "pygments_lexer": "ipython3",
   "nbconvert_exporter": "python",
   "file_extension": ".py"
  },
  "kernelspec": {
   "name": "python3",
   "display_name": "Python 3.9.7 64-bit"
  },
  "interpreter": {
   "hash": "e7370f93d1d0cde622a1f8e1c04877d8463912d04d973331ad4851f04de6915a"
  }
 },
 "nbformat": 4,
 "nbformat_minor": 2
}