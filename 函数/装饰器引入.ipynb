{
 "cells": [
  {
   "cell_type": "markdown",
   "source": [
    "# 装饰器引入"
   ],
   "metadata": {}
  },
  {
   "cell_type": "markdown",
   "source": [
    "- 可以直接通过修改函数中的代码来完成某些需求，但是会产生以下问题：\n",
    "  1. 如果要修改的函数过多，修改起来会比较麻烦\n",
    "  2. 不方便后期的维护\n",
    "  3. 违反开闭原则（OCP）—— 开放对程序的扩展、关闭对程序的修改\n",
    "- 希望在不修改原函数的情况下对函数进行扩展"
   ],
   "metadata": {}
  }
 ],
 "metadata": {
  "orig_nbformat": 4,
  "language_info": {
   "name": "python",
   "version": "3.9.6"
  },
  "kernelspec": {
   "name": "python3",
   "display_name": "Python 3.9.6 64-bit"
  },
  "interpreter": {
   "hash": "e7370f93d1d0cde622a1f8e1c04877d8463912d04d973331ad4851f04de6915a"
  }
 },
 "nbformat": 4,
 "nbformat_minor": 2
}