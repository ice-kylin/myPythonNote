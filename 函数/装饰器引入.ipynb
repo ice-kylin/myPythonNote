{
 "cells": [
  {
   "cell_type": "markdown",
   "source": [
    "# 装饰器引入"
   ],
   "metadata": {}
  },
  {
   "cell_type": "markdown",
   "source": [
    "- 可以直接通过修改函数中的代码来完成某些需求，但是会产生以下问题：\n",
    "  1. 如果要修改的函数过多，修改起来会比较麻烦\n",
    "  2. 不方便后期的维护\n",
    "  3. 违反开闭原则（OCP）—— 开放对程序的扩展、关闭对程序的修改\n",
    "- 希望在不修改原函数的情况下对函数进行扩展\n",
    "- 装饰器\n",
    "  - 通过装饰器可以在不修改原来函数的情况下对函数进行扩展\n",
    "  - 在开发中，都是通过装饰器来扩展函数功能的\n",
    "  - 在定义函数时，可以通过 `@装饰器` 来使用指定的装饰器来装饰当前函数\n",
    "    - 可以同时为一个函数指定多个装饰器\n",
    "    - 函数将会按照从内向外的顺序被装饰"
   ],
   "metadata": {}
  },
  {
   "cell_type": "code",
   "execution_count": null,
   "source": [
    "def calc_sum(*nums):\n",
    "    rst = 0\n",
    "    for num in nums:\n",
    "        rst += num\n",
    "\n",
    "    return rst\n",
    "\n",
    "\n",
    "def print_start_and_stop_info(func, *position, **keyword):\n",
    "    print('[INFO] 函数开始运行')\n",
    "\n",
    "    rst = func(*position, **keyword)\n",
    "\n",
    "    print('[INFO] 函数结束运行')\n",
    "\n",
    "    return rst\n",
    "\n",
    "\n",
    "print(f'calc_sum(1, 2, 3) = {calc_sum(1, 2, 3)}')\n",
    "print(f'print_start_and_stop_info(calc_sum, 1, 2, 3) = {print_start_and_stop_info(calc_sum, 1, 2, 3)}')"
   ],
   "outputs": [],
   "metadata": {}
  },
  {
   "cell_type": "code",
   "execution_count": null,
   "source": [
    "def print_start_and_stop_info(func, *position, **keyword):\n",
    "    print('[INFO] 函数开始运行')\n",
    "\n",
    "    rst = func(*position, **keyword)\n",
    "\n",
    "    print('[INFO] 函数结束运行')\n",
    "\n",
    "    return rst\n",
    "\n",
    "\n",
    "strs1 = 'qwertyuiopasdfghjklzxcvbnm'\n",
    "strs2 = print_start_and_stop_info(sorted, strs1, reverse=True)\n",
    "print(f'strs = {strs1}')\n",
    "print(f'strs = {strs2}')"
   ],
   "outputs": [],
   "metadata": {}
  },
  {
   "cell_type": "code",
   "execution_count": null,
   "source": [
    "def make_print_start_and_stop_info_func(func):\n",
    "    def new_func(*position, **keyword):\n",
    "        print('[INFO] 函数开始运行')\n",
    "\n",
    "        rst = func(*position, **keyword)\n",
    "\n",
    "        print('[INFO] 函数结束运行')\n",
    "\n",
    "        return rst\n",
    "\n",
    "    return new_func\n",
    "\n",
    "\n",
    "new_sorted = make_print_start_and_stop_info_func(sorted)\n",
    "print(f'new_sorted = {new_sorted}')\n",
    "print(f'type(new_sorted) = {type(new_sorted)}')\n",
    "\n",
    "strs1 = 'qwertyuiopasdfghjklzxcvbnm'\n",
    "strs2 = new_sorted(strs1, reverse=True)\n",
    "print(f'strs = {strs1}')\n",
    "print(f'strs = {strs2}')"
   ],
   "outputs": [],
   "metadata": {}
  },
  {
   "cell_type": "code",
   "execution_count": null,
   "source": [
    "def make_print_start_and_stop_info_func(func):\n",
    "    def new_func(*position, **keyword):\n",
    "        print('[INFO] 函数开始运行')\n",
    "\n",
    "        rst = func(*position, **keyword)\n",
    "\n",
    "        print('[INFO] 函数结束运行')\n",
    "\n",
    "        return rst\n",
    "\n",
    "    return new_func\n",
    "\n",
    "\n",
    "# calc_sum = make_print_start_and_stop_info_func(calc_sum)\n",
    "@make_print_start_and_stop_info_func\n",
    "def calc_sum(a: int, b: int) -> int:\n",
    "    return a + b\n",
    "\n",
    "\n",
    "print(f'calc_sum(123, 456) = {calc_sum(123, 456)}')"
   ],
   "outputs": [],
   "metadata": {}
  },
  {
   "cell_type": "code",
   "execution_count": null,
   "source": [
    "def make_print_start_and_stop_info_func(func):\n",
    "    def new_func():\n",
    "        print('[INFO] 函数开始运行')\n",
    "\n",
    "        rst = 'Hello World!'\n",
    "\n",
    "        print('[INFO] 函数结束运行')\n",
    "\n",
    "        return rst\n",
    "\n",
    "    return new_func\n",
    "\n",
    "\n",
    "# calc_sum = make_print_start_and_stop_info_func(calc_sum)\n",
    "@make_print_start_and_stop_info_func\n",
    "def calc_sum(a: int, b: int) -> int:\n",
    "    return a + b\n",
    "\n",
    "\n",
    "print(f'calc_sum() = {calc_sum()}')"
   ],
   "outputs": [],
   "metadata": {}
  },
  {
   "cell_type": "code",
   "execution_count": null,
   "source": [
    "def use_logging(level):\n",
    "    print(f'level = {level}')\n",
    "\n",
    "    def decorator(func):\n",
    "        print(f'func = {func}')\n",
    "\n",
    "        def wrapper(*args, **kwargs):\n",
    "            if level == \"warn\":\n",
    "                print(f\"[WARNING] {func.__name__} is running\")\n",
    "            elif level == \"info\":\n",
    "                print(f\"[INFO] {func.__name__} is running\")\n",
    "            return func(*args, **kwargs)\n",
    "\n",
    "        return wrapper\n",
    "\n",
    "    return decorator\n",
    "\n",
    "\n",
    "# foo = use_logging(level=\"warn\")(foo)\n",
    "@use_logging(level=\"warn\")\n",
    "def foo(name='foo'):\n",
    "    print(\"i am %s\" % name)\n",
    "\n",
    "\n",
    "foo()"
   ],
   "outputs": [],
   "metadata": {}
  },
  {
   "cell_type": "code",
   "execution_count": null,
   "source": [
    "def use_logging(level):\n",
    "    print(f'level = {level}')\n",
    "\n",
    "    def decorator(func):\n",
    "        print(f'func = {func}')\n",
    "\n",
    "        def wrapper(*args, **kwargs):\n",
    "            if level == \"warn\":\n",
    "                print(f\"[WARNING] {func.__name__} is running\")\n",
    "            elif level == \"info\":\n",
    "                print(f\"[INFO] {func.__name__} is running\")\n",
    "            return func(*args, **kwargs)\n",
    "\n",
    "        return wrapper\n",
    "\n",
    "    return decorator\n",
    "\n",
    "\n",
    "def foo(name='foo'):\n",
    "    print(\"i am %s\" % name)\n",
    "\n",
    "\n",
    "foo = use_logging(level=\"warn\")(foo)\n",
    "foo()"
   ],
   "outputs": [],
   "metadata": {}
  }
 ],
 "metadata": {
  "orig_nbformat": 4,
  "language_info": {
   "name": "python",
   "version": "3.9.7",
   "mimetype": "text/x-python",
   "codemirror_mode": {
    "name": "ipython",
    "version": 3
   },
   "pygments_lexer": "ipython3",
   "nbconvert_exporter": "python",
   "file_extension": ".py"
  },
  "kernelspec": {
   "name": "python3",
   "display_name": "Python 3.9.7 64-bit"
  },
  "interpreter": {
   "hash": "e7370f93d1d0cde622a1f8e1c04877d8463912d04d973331ad4851f04de6915a"
  }
 },
 "nbformat": 4,
 "nbformat_minor": 2
}