{
 "cells": [
  {
   "cell_type": "markdown",
   "source": [
    "# 高阶函数"
   ],
   "metadata": {}
  },
  {
   "cell_type": "markdown",
   "source": [
    "## 函数式编程\n",
    "\n",
    "在 Python 中，函数是一等对象。\n",
    "\n",
    "### 一等对象\n",
    "\n",
    "1. 对象是在运行时创建的\n",
    "2. 能赋值给变量或作为数据结构中的元素\n",
    "3. 能作为参数传递\n",
    "4. 能作为返回值返回\n",
    "\n",
    "### 高阶函数\n",
    "\n",
    "- 高阶函数至少要符合以下两个特点中的一个\n",
    "  1. 接受一个或多个函数作为参数\n",
    "  2. 将函数作为返回值返回"
   ],
   "metadata": {}
  }
 ],
 "metadata": {
  "orig_nbformat": 4,
  "language_info": {
   "name": "python",
   "version": "3.9.6"
  },
  "kernelspec": {
   "name": "python3",
   "display_name": "Python 3.9.6 64-bit"
  },
  "interpreter": {
   "hash": "e7370f93d1d0cde622a1f8e1c04877d8463912d04d973331ad4851f04de6915a"
  }
 },
 "nbformat": 4,
 "nbformat_minor": 2
}