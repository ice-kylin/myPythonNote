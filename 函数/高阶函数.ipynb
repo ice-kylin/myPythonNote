{
 "cells": [
  {
   "cell_type": "markdown",
   "source": [
    "# 高阶函数"
   ],
   "metadata": {}
  },
  {
   "cell_type": "markdown",
   "source": [
    "## 函数式编程\n",
    "\n",
    "在 Python 中，函数是一等对象。\n",
    "\n",
    "### 一等对象\n",
    "\n",
    "1. 对象是在运行时创建的\n",
    "2. 能赋值给变量或作为数据结构中的元素\n",
    "3. 能作为参数传递\n",
    "4. 能作为返回值返回\n",
    "\n",
    "### 高阶函数\n",
    "\n",
    "- 高阶函数至少要符合以下两个特点中的一个\n",
    "  1. 接受一个或多个函数作为参数\n",
    "  2. 将函数作为返回值返回\n",
    "- 当我们使用一个函数作为参数时，实际上是将指定的代码传递进了目标函数"
   ],
   "metadata": {}
  },
  {
   "cell_type": "code",
   "execution_count": null,
   "source": [
    "my_list = [1, 2, 3, 4, 5, 6, 7, 8, 9, 10]\n",
    "\n",
    "\n",
    "def get_even_nums(all_numbs: list) -> list:\n",
    "    '''\n",
    "    获取指定整型列表中的偶数并作为一个新列表返回\n",
    "    参数:\n",
    "        all_numbs: 需要指定的整型列表\n",
    "    '''\n",
    "    even_nums = []\n",
    "\n",
    "    for num in all_numbs:\n",
    "        if num % 2 == 0:\n",
    "            even_nums.append(num)\n",
    "\n",
    "    return even_nums\n",
    "\n",
    "help(get_even_nums)\n",
    "print(f'get_even_nums(my_list) = {get_even_nums(my_list)}')"
   ],
   "outputs": [],
   "metadata": {}
  },
  {
   "cell_type": "code",
   "execution_count": null,
   "source": [
    "def check_even_num(num: int) -> bool:\n",
    "    if num % 2 == 0:\n",
    "        return True\n",
    "    else:\n",
    "        return False\n",
    "\n",
    "\n",
    "def check_greater_than_or_equal_to_ten(num: int) -> bool:\n",
    "    if num >= 10:\n",
    "        return True\n",
    "    else:\n",
    "        return False\n",
    "\n",
    "\n",
    "def get_eligible_nums(all_numbs: list, *condition_funcs) -> list:\n",
    "    tested_nums = all_numbs[:]\n",
    "    partial_tested_nums = []\n",
    "\n",
    "    for condition_func in condition_funcs:\n",
    "\n",
    "        for tested_num in tested_nums:\n",
    "            if condition_func(tested_num):\n",
    "                partial_tested_nums.append(tested_num)\n",
    "\n",
    "        tested_nums = partial_tested_nums[:]\n",
    "        partial_tested_nums = []\n",
    "\n",
    "    return tested_nums\n",
    "\n",
    "\n",
    "my_list = [\n",
    "    1, 2, 3, 4, 5, 6, 7, 8, 9, 10, 11, 12, 13, 14, 15, 16, 17, 18, 19, 20\n",
    "]\n",
    "\n",
    "print(\n",
    "    f'get_eligible_nums(my_list, check_even_num, check_greater_than_or_equal_to_ten) = {get_eligible_nums(my_list, check_even_num, check_greater_than_or_equal_to_ten)}'\n",
    ")"
   ],
   "outputs": [],
   "metadata": {}
  }
 ],
 "metadata": {
  "orig_nbformat": 4,
  "language_info": {
   "name": "python",
   "version": "3.9.6",
   "mimetype": "text/x-python",
   "codemirror_mode": {
    "name": "ipython",
    "version": 3
   },
   "pygments_lexer": "ipython3",
   "nbconvert_exporter": "python",
   "file_extension": ".py"
  },
  "kernelspec": {
   "name": "python3",
   "display_name": "Python 3.9.6 64-bit"
  },
  "interpreter": {
   "hash": "e7370f93d1d0cde622a1f8e1c04877d8463912d04d973331ad4851f04de6915a"
  }
 },
 "nbformat": 4,
 "nbformat_minor": 2
}