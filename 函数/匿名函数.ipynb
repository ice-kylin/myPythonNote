{
 "cells": [
  {
   "cell_type": "markdown",
   "source": [
    "# 匿名函数"
   ],
   "metadata": {}
  },
  {
   "cell_type": "markdown",
   "source": [
    "## `filter()`\n",
    "\n",
    "- `filter()` 可以从序列中过滤出符合条件的元素，保存到一个新的序列中\n",
    "- 参数：\n",
    "  1. 函数 —— 根据该函数来过滤序列（可迭代的结构）\n",
    "  2. 需要过滤的序列（可迭代的结构）\n",
    "- 返回值：\n",
    "  - 过滤后的新序列（可迭代的结构）"
   ],
   "metadata": {}
  },
  {
   "cell_type": "code",
   "execution_count": null,
   "source": [
    "def check_even_num(num: int) -> bool:\n",
    "    if num % 2 == 0:\n",
    "        return True\n",
    "    else:\n",
    "        return False\n",
    "\n",
    "\n",
    "my_list = [\n",
    "    1, 2, 3, 4, 5, 6, 7, 8, 9, 10, 11, 12, 13, 14, 15, 16, 17, 18, 19, 20\n",
    "]\n",
    "\n",
    "print(f'list(filter(check_even_num, my_list)) = {list(filter(check_even_num, my_list))}')"
   ],
   "outputs": [],
   "metadata": {}
  },
  {
   "cell_type": "markdown",
   "source": [
    "## lambda 函数（匿名函数）表达式（语法糖）\n",
    "\n",
    "- lambda 函数表达式专门用来创建一些简单的函数\n",
    "- 是函数创建的又一种方式\n",
    "- 语法：`lambda 参数列表: 返回值`\n",
    "- 可以将匿名函数赋值给变量（一般不会这么做）\n",
    "- 匿名函数一般都是作为参数使用，其它地方一般不会使用"
   ],
   "metadata": {}
  },
  {
   "cell_type": "code",
   "execution_count": null,
   "source": [
    "print(f\"type(lambda a, b: a + b) = {type(lambda a, b: a + b)}\")\n",
    "print(f\"(lambda a, b: a + b)(10,20) = {(lambda a, b: a + b)(10,20)}\")"
   ],
   "outputs": [],
   "metadata": {}
  },
  {
   "cell_type": "code",
   "execution_count": null,
   "source": [
    "my_list = [\n",
    "    1, 2, 3, 4, 5, 6, 7, 8, 9, 10, 11, 12, 13, 14, 15, 16, 17, 18, 19, 20\n",
    "]\n",
    "\n",
    "print(\n",
    "    f'list(filter(lambda num: num % 2==0, my_list)) = {list(filter(lambda num: num % 2==0, my_list))}'\n",
    ")"
   ],
   "outputs": [],
   "metadata": {}
  },
  {
   "cell_type": "markdown",
   "source": [
    "## `map()`\n",
    "\n",
    "- `map()` 函数可以对可迭代对象中的所有元素做指定的操作，让后将其添加到一个新的对象中返回"
   ],
   "metadata": {}
  },
  {
   "cell_type": "code",
   "execution_count": null,
   "source": [
    "my_list = [\n",
    "    1, 2, 3, 4, 5, 6, 7, 8, 9, 10, 11, 12, 13, 14, 15, 16, 17, 18, 19, 20\n",
    "]\n",
    "\n",
    "rst = list(map(lambda num: num + 1, my_list))\n",
    "print(f'rst = {rst}')"
   ],
   "outputs": [],
   "metadata": {}
  }
 ],
 "metadata": {
  "orig_nbformat": 4,
  "language_info": {
   "name": "python",
   "version": "3.9.6",
   "mimetype": "text/x-python",
   "codemirror_mode": {
    "name": "ipython",
    "version": 3
   },
   "pygments_lexer": "ipython3",
   "nbconvert_exporter": "python",
   "file_extension": ".py"
  },
  "kernelspec": {
   "name": "python3",
   "display_name": "Python 3.9.6 64-bit"
  },
  "interpreter": {
   "hash": "e7370f93d1d0cde622a1f8e1c04877d8463912d04d973331ad4851f04de6915a"
  }
 },
 "nbformat": 4,
 "nbformat_minor": 2
}