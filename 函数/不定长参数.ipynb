{
 "cells": [
  {
   "cell_type": "markdown",
   "metadata": {},
   "source": [
    "# 不定长参数"
   ]
  },
  {
   "cell_type": "markdown",
   "metadata": {},
   "source": [
    "- 在定义函数时，可以在形参前边加上一个 `*`\n",
    "- 这样这个形参将会获取到所有的实参\n",
    "- 它会将所有的实参保存到一个元组中"
   ]
  },
  {
   "cell_type": "code",
   "execution_count": null,
   "metadata": {},
   "outputs": [],
   "source": [
    "# *a 会接受所有的位置实参，并且会将这些实参统一保存到一个元组中（装包）\n",
    "def my_func(*a):\n",
    "    print(f'type(a) = {type(a)}')\n",
    "    print(f'a = {a}')\n",
    "\n",
    "\n",
    "my_func()\n",
    "my_func(1, 2, 3)"
   ]
  },
  {
   "cell_type": "code",
   "execution_count": null,
   "metadata": {},
   "outputs": [],
   "source": [
    "def calc_sum(*nums):\n",
    "    rst = 0\n",
    "    for num in nums:\n",
    "        rst += num\n",
    "\n",
    "    return rst\n",
    "\n",
    "\n",
    "rst_1 = calc_sum(1, 2)\n",
    "print(f'rst = {rst_1}')\n",
    "rst_2 = calc_sum(1, 2, 3, 4, 5, 6, 7, 8, 9, 10)\n",
    "print(f'rst = {rst_2}')"
   ]
  },
  {
   "cell_type": "markdown",
   "metadata": {},
   "source": [
    "- 带 `*` 的形参只能有一个\n",
    "- 带 `*` 的参数，可以和其它参数配合使用"
   ]
  },
  {
   "cell_type": "code",
   "execution_count": null,
   "metadata": {},
   "outputs": [],
   "source": [
    "def my_func2(a, b, *c):\n",
    "    print(f'a = {a}, type(a) = {type(a)}')\n",
    "    print(f'b = {b}, type(b) = {type(b)}')\n",
    "    print(f'c = {c}, type(c) = {type(c)}')\n",
    "\n",
    "\n",
    "my_func2(1, 2, 3)\n",
    "my_func2(1, 2, 3, 4, 5)"
   ]
  },
  {
   "cell_type": "markdown",
   "metadata": {},
   "source": [
    "- 可变参数不是必须写在最后，但是**注意**，带 `*` 的参数后的所有参数**必须**以关键字参数的形式传递，否则会报错 `TypeError`"
   ]
  },
  {
   "cell_type": "code",
   "execution_count": null,
   "metadata": {},
   "outputs": [],
   "source": [
    "def my_func2(a, *b, c):\n",
    "    print(f'a = {a}, type(a) = {type(a)}')\n",
    "    print(f'b = {b}, type(b) = {type(b)}')\n",
    "    print(f'c = {c}, type(c) = {type(c)}')\n",
    "\n",
    "\n",
    "my_func2(1, 2, c=3)\n",
    "my_func2(1, 2, 3, 4, c=5)"
   ]
  },
  {
   "cell_type": "markdown",
   "metadata": {},
   "source": [
    "- 如果在形参的开头直接写一个 `*`，则要求所有的实参必须以关键字参数的形式传递"
   ]
  },
  {
   "cell_type": "code",
   "execution_count": null,
   "metadata": {},
   "outputs": [],
   "source": [
    "def my_func3(*, a, b, c):\n",
    "    print(f'a = {a}')\n",
    "    print(f'b = {b}')\n",
    "    print(f'c = {c}')\n",
    "\n",
    "\n",
    "my_func3(a=1, b=2, c=3)"
   ]
  },
  {
   "cell_type": "markdown",
   "metadata": {},
   "source": [
    "- `*` 形参只能接受位置参数，而不能接受关键字参数\n",
    "- `**` 形参可以接受其它的关键字参数\n",
    "  - 字典的 `key` 就是参数的名字，字典的 `value` 就是参数的值\n",
    "  - `**` 形参只能有一个，并且必须写在所有参数的最后"
   ]
  },
  {
   "cell_type": "code",
   "execution_count": null,
   "metadata": {},
   "outputs": [],
   "source": [
    "def my_func4(**a):\n",
    "    print(f'a = {a}')\n",
    "    print(f'type(a) = {type(a)}')\n",
    "\n",
    "\n",
    "my_func4(b=1, c=2, d=3, a=1)"
   ]
  }
 ],
 "metadata": {
  "interpreter": {
   "hash": "e7370f93d1d0cde622a1f8e1c04877d8463912d04d973331ad4851f04de6915a"
  },
  "kernelspec": {
   "display_name": "Python 3.9.6 64-bit",
   "name": "python3"
  },
  "language_info": {
   "codemirror_mode": {
    "name": "ipython",
    "version": 3
   },
   "file_extension": ".py",
   "mimetype": "text/x-python",
   "name": "python",
   "nbconvert_exporter": "python",
   "pygments_lexer": "ipython3",
   "version": "3.10.0"
  },
  "orig_nbformat": 4
 },
 "nbformat": 4,
 "nbformat_minor": 2
}
