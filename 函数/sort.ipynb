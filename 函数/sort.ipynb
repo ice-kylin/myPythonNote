{
 "cells": [
  {
   "cell_type": "markdown",
   "source": [
    "# `.sort()`"
   ],
   "metadata": {}
  },
  {
   "cell_type": "markdown",
   "source": [
    "- `sort()` 方法用来对列表中的元素进行排序\n",
    "- 默认是直接比较列表中元素的大小\n",
    "- 在 `.sort()` 中可以接受一个关键字参数 `key`\n",
    "  - `key` 需要一个函数作为参数\n",
    "  - 当设置了函数作为参数，每次都会以列表中的一个元素作为参数来调用函数，并且使用函数的返回值来比较元素的大小"
   ],
   "metadata": {}
  },
  {
   "cell_type": "code",
   "execution_count": null,
   "source": [
    "strs = ['b', 'aaa', 'ddddddd', 'cc']\n",
    "print(f'strs = {strs}')\n",
    "\n",
    "strs.sort()\n",
    "print(f'strs = {strs}')\n",
    "\n",
    "strs.sort(key=len)\n",
    "print(f'strs = {strs}')"
   ],
   "outputs": [],
   "metadata": {}
  },
  {
   "cell_type": "markdown",
   "source": [
    "## `sorted()`\n",
    "\n",
    "- `sorted()` 函数和 `.sort()` 的用法基本一致\n",
    "- 但是 `sorted()` 可以对任意的序列进行排序\n",
    "- 并且使用 `sorted()` 排序不会影响原来的对象，而是返回一个新的对象"
   ],
   "metadata": {}
  },
  {
   "cell_type": "code",
   "execution_count": null,
   "source": [
    "mix_elements = [4, '5', '3', 1, '2']\n",
    "\n",
    "print(f'mix_elements = {mix_elements}')\n",
    "\n",
    "sorted_mix_elements = sorted(mix_elements, key=int)\n",
    "\n",
    "print(f'mix_elements = {mix_elements}')\n",
    "print(f'sorted_mix_elements = {sorted_mix_elements}')"
   ],
   "outputs": [],
   "metadata": {}
  },
  {
   "cell_type": "code",
   "execution_count": null,
   "source": [
    "strs = 'qwertyuiopasdfghjklzxcvbnm'\n",
    "\n",
    "sorted_strs = sorted(strs)\n",
    "print(f'sorted_strs = {sorted_strs}')"
   ],
   "outputs": [],
   "metadata": {}
  },
  {
   "cell_type": "code",
   "execution_count": null,
   "source": [
    "strs = '1029384756'\n",
    "\n",
    "sorted_strs = sorted(strs, key=int)\n",
    "print(f'sorted_strs = {sorted_strs}')"
   ],
   "outputs": [],
   "metadata": {}
  }
 ],
 "metadata": {
  "orig_nbformat": 4,
  "language_info": {
   "name": "python",
   "version": "3.9.6",
   "mimetype": "text/x-python",
   "codemirror_mode": {
    "name": "ipython",
    "version": 3
   },
   "pygments_lexer": "ipython3",
   "nbconvert_exporter": "python",
   "file_extension": ".py"
  },
  "kernelspec": {
   "name": "python3",
   "display_name": "Python 3.9.6 64-bit"
  },
  "interpreter": {
   "hash": "e7370f93d1d0cde622a1f8e1c04877d8463912d04d973331ad4851f04de6915a"
  }
 },
 "nbformat": 4,
 "nbformat_minor": 2
}