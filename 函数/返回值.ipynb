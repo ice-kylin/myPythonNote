{
 "cells": [
  {
   "cell_type": "markdown",
   "source": [
    "# 返回值"
   ],
   "metadata": {}
  },
  {
   "cell_type": "markdown",
   "source": [
    "- 返回值就是函数执行以后返回的一个结果\n",
    "- 可以通过 `return` 指定函数的返回值\n",
    "- 可以直接使用函数的返回值，也可以通过一个变量来接收函数的返回值\n",
    "- `return` 后面跟什么值，函数就会返回什么值\n",
    "  - `return` 后面可以跟任意对象\n",
    "  - 返回值甚至可以是一个函数\n",
    "  - 如果仅仅写一个 `return` 或者不写 `return`，相当于 `return None`\n",
    "  - 在函数中，`return` 后的代码都不会执行"
   ],
   "metadata": {}
  },
  {
   "cell_type": "code",
   "execution_count": null,
   "source": [
    "def calc_sum(*nums):\n",
    "    rst = 0\n",
    "\n",
    "    for num in nums:\n",
    "        rst += num\n",
    "\n",
    "    return rst\n",
    "\n",
    "\n",
    "rst = calc_sum(1, 2, 3)\n",
    "print(f'rst = {rst}')"
   ],
   "outputs": [],
   "metadata": {}
  },
  {
   "cell_type": "code",
   "execution_count": null,
   "source": [
    "def my_func():\n",
    "    def print_str(str):\n",
    "        print(str)\n",
    "\n",
    "    return print_str\n",
    "\n",
    "\n",
    "my_func()('Hello World!')"
   ],
   "outputs": [],
   "metadata": {}
  }
 ],
 "metadata": {
  "orig_nbformat": 4,
  "language_info": {
   "name": "python",
   "version": "3.9.6",
   "mimetype": "text/x-python",
   "codemirror_mode": {
    "name": "ipython",
    "version": 3
   },
   "pygments_lexer": "ipython3",
   "nbconvert_exporter": "python",
   "file_extension": ".py"
  },
  "kernelspec": {
   "name": "python3",
   "display_name": "Python 3.9.6 64-bit"
  },
  "interpreter": {
   "hash": "e7370f93d1d0cde622a1f8e1c04877d8463912d04d973331ad4851f04de6915a"
  }
 },
 "nbformat": 4,
 "nbformat_minor": 2
}