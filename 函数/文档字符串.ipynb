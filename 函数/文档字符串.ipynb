{
 "cells": [
  {
   "cell_type": "markdown",
   "source": [
    "# 文档字符串"
   ],
   "metadata": {}
  },
  {
   "cell_type": "markdown",
   "source": [
    "## `help()`\n",
    "\n",
    "- 通过 `help()` 函数可以查询 Python 中函数的用法\n",
    "- 语法：`help(函数)`"
   ],
   "metadata": {}
  },
  {
   "cell_type": "code",
   "execution_count": null,
   "source": [
    "help(print)"
   ],
   "outputs": [],
   "metadata": {}
  },
  {
   "cell_type": "code",
   "execution_count": null,
   "source": [
    "help(help)"
   ],
   "outputs": [],
   "metadata": {}
  },
  {
   "cell_type": "code",
   "execution_count": null,
   "source": [
    "def print_hello(name=''):\n",
    "    print(f'Hello {name}!')\n",
    "\n",
    "\n",
    "print_hello('icekylin')\n",
    "help(print_hello)"
   ],
   "outputs": [],
   "metadata": {}
  },
  {
   "cell_type": "markdown",
   "source": [
    "## 文档字符串\n",
    "\n",
    "- 在定义函数时，可以在函数内部编写文档字符串\n",
    "- 文档字符串就是函数的说明\n",
    "- 当编写了文档字符串时，就可以通过 `help()` 函数来查看函数的说明"
   ],
   "metadata": {}
  },
  {
   "cell_type": "code",
   "execution_count": null,
   "source": [
    "def print_hello(name=''):\n",
    "    '''\n",
    "    print_hello(name='')\n",
    "\n",
    "    Prints welcome message.\n",
    "    Optional keyword arguments:\n",
    "    name:  People's name who will received the welcome.\n",
    "    '''\n",
    "    print(f'Hello {name}!')\n",
    "\n",
    "\n",
    "print_hello('icekylin')\n",
    "help(print_hello)"
   ],
   "outputs": [],
   "metadata": {}
  },
  {
   "cell_type": "code",
   "execution_count": null,
   "source": [
    "def my_func(a: int, b: bool, c: str = 'Hello') -> int:\n",
    "    '''\n",
    "    文档字符串的测试.\n",
    "    '''\n",
    "    return 0\n",
    "\n",
    "\n",
    "help(my_func)"
   ],
   "outputs": [],
   "metadata": {}
  }
 ],
 "metadata": {
  "orig_nbformat": 4,
  "language_info": {
   "name": "python",
   "version": "3.9.6",
   "mimetype": "text/x-python",
   "codemirror_mode": {
    "name": "ipython",
    "version": 3
   },
   "pygments_lexer": "ipython3",
   "nbconvert_exporter": "python",
   "file_extension": ".py"
  },
  "kernelspec": {
   "name": "python3",
   "display_name": "Python 3.9.6 64-bit"
  },
  "interpreter": {
   "hash": "e7370f93d1d0cde622a1f8e1c04877d8463912d04d973331ad4851f04de6915a"
  }
 },
 "nbformat": 4,
 "nbformat_minor": 2
}