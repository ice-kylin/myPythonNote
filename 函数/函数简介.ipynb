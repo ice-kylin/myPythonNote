{
 "cells": [
  {
   "cell_type": "markdown",
   "source": [
    "# `func` 函数简介"
   ],
   "metadata": {}
  },
  {
   "cell_type": "markdown",
   "source": [
    "- 函数也是对象\n",
    "    - 对象是内存中专门用来存储数据的一块区域\n",
    "- 函数可以用来保存可执行的代码，并且可以在需要时，对这些语句进行多次的调用"
   ],
   "metadata": {}
  },
  {
   "cell_type": "markdown",
   "source": [
    "## 定义函数\n",
    "\n",
    "- 语法：\n",
    "    ```python\n",
    "    def 函数名([形参1,形参2,...,形参n]):\n",
    "        代码块\n",
    "    ```\n",
    "- 函数中保存的代码不会立即执行，需要调用函数代码才会执行\n",
    "- 函数名必须符合标示符的规范（可以包含字母、数字、下划线，但是不能以数字开头）\n",
    "\n",
    "## 调用函数\n",
    "\n",
    "- 语法：`函数对象()`\n",
    "- `fn` 是函数对象\n",
    "- `fn()` 调用函数"
   ],
   "metadata": {}
  },
  {
   "cell_type": "code",
   "execution_count": null,
   "source": [
    "def print_hello():\n",
    "    print('Hello')\n",
    "    print('你好')\n",
    "\n",
    "\n",
    "print(f'print_hello = {print_hello}, type(print_hello) = {type(print_hello)}')\n",
    "print_hello()\n",
    "print_hello()\n",
    "print_hello()"
   ],
   "outputs": [],
   "metadata": {}
  }
 ],
 "metadata": {
  "interpreter": {
   "hash": "767d51c1340bd893661ea55ea3124f6de3c7a262a8b4abca0554b478b1e2ff90"
  },
  "kernelspec": {
   "name": "python3",
   "display_name": "Python 3.9.6 64-bit"
  },
  "language_info": {
   "codemirror_mode": {
    "name": "ipython",
    "version": 3
   },
   "file_extension": ".py",
   "mimetype": "text/x-python",
   "name": "python",
   "nbconvert_exporter": "python",
   "pygments_lexer": "ipython3",
   "version": "3.9.6"
  },
  "orig_nbformat": 2
 },
 "nbformat": 4,
 "nbformat_minor": 2
}