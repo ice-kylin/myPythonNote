{
 "cells": [
  {
   "cell_type": "markdown",
   "metadata": {},
   "source": [
    "# 函数的参数"
   ]
  },
  {
   "cell_type": "markdown",
   "metadata": {},
   "source": [
    "- 定义函数一般都是要实现某种功能的\n",
    "- 在定义函数的时候，可以在函数名后的 `()` 中定义数量不等的形参\n",
    "- 多个形参之间使用 `,` 隔开\n",
    "- 形参（形式参数）：\n",
    "    - 定义形参就相当于在函数内部声明了变量，但并不赋值\n",
    "- 实参（实际参数）：\n",
    "    - 如果函数定义时，指定了形参，那么在调用函数时也必须传递实参，实参将会赋值给对应的实参\n",
    "    - 简单来说，有几个形参就需要传递几个实参"
   ]
  },
  {
   "cell_type": "code",
   "execution_count": null,
   "metadata": {},
   "outputs": [],
   "source": [
    "def print_sum(num_1,num_2,num_3):\n",
    "    # print(f'num_1 = {num_1}')\n",
    "    # print(f'num_2 = {num_2}')\n",
    "    # print(f'num_3 = {num_3}')\n",
    "    print(f'{num_1} + {num_2} + {num_3} = {num_3 + num_2 + num_3}')\n",
    "\n",
    "print_sum(1, 2, 3)\n",
    "print()\n",
    "print_sum(4, 5, 6)\n",
    "print()\n",
    "print_sum(7, 8, 9)"
   ]
  }
 ],
 "metadata": {
  "interpreter": {
   "hash": "767d51c1340bd893661ea55ea3124f6de3c7a262a8b4abca0554b478b1e2ff90"
  },
  "kernelspec": {
   "display_name": "Python 3.9.5 64-bit",
   "name": "python3"
  },
  "language_info": {
   "codemirror_mode": {
    "name": "ipython",
    "version": 3
   },
   "file_extension": ".py",
   "mimetype": "text/x-python",
   "name": "python",
   "nbconvert_exporter": "python",
   "pygments_lexer": "ipython3",
   "version": "3.9.5"
  },
  "orig_nbformat": 2
 },
 "nbformat": 4,
 "nbformat_minor": 2
}