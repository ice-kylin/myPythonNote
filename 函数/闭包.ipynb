{
 "cells": [
  {
   "cell_type": "markdown",
   "metadata": {},
   "source": [
    "# 闭包"
   ]
  },
  {
   "cell_type": "markdown",
   "metadata": {},
   "source": [
    "- 将函数作为返回值返回，也是一种高阶函数\n",
    "- 这种高阶函数也称为闭包，通过闭包可以创建一些只有当前函数能访问的变量\n",
    "  - 可以将一些私有的数据藏到闭包中\n",
    "- 形成闭包的要件\n",
    "  1. 函数嵌套\n",
    "  2. 将内部函数作为返回值返回\n",
    "  3. 内部函数必须要使用到外部函数的变量"
   ]
  },
  {
   "cell_type": "code",
   "execution_count": null,
   "metadata": {},
   "outputs": [],
   "source": [
    "def my_func1():\n",
    "    a = 'Hello World!'\n",
    "\n",
    "    def my_func2():\n",
    "        print('我是 my_func2()')\n",
    "        print(f'a = {a}')\n",
    "\n",
    "    return my_func2\n",
    "\n",
    "\n",
    "my_func1()()"
   ]
  },
  {
   "cell_type": "code",
   "execution_count": null,
   "metadata": {},
   "outputs": [],
   "source": [
    "def make_averager():\n",
    "    nums = []\n",
    "\n",
    "    def calc_average(nums: list) -> float:\n",
    "        return sum(nums) / len(nums)\n",
    "\n",
    "    def averager(num: float) -> float:\n",
    "        nums.append(num)\n",
    "        average = calc_average(nums)\n",
    "        return average\n",
    "\n",
    "    return averager\n",
    "\n",
    "\n",
    "average = make_averager()\n",
    "print(f'average(10) = {average(10)}')\n",
    "nums = []\n",
    "print(f'average(20) = {average(20)}')\n",
    "print(f'average(30) = {average(30)}')"
   ]
  }
 ],
 "metadata": {
  "interpreter": {
   "hash": "e7370f93d1d0cde622a1f8e1c04877d8463912d04d973331ad4851f04de6915a"
  },
  "kernelspec": {
   "display_name": "Python 3.9.6 64-bit",
   "name": "python3"
  },
  "language_info": {
   "codemirror_mode": {
    "name": "ipython",
    "version": 3
   },
   "file_extension": ".py",
   "mimetype": "text/x-python",
   "name": "python",
   "nbconvert_exporter": "python",
   "pygments_lexer": "ipython3",
   "version": "3.10.0"
  },
  "orig_nbformat": 4
 },
 "nbformat": 4,
 "nbformat_minor": 2
}
