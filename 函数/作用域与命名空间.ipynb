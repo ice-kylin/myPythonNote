{
 "cells": [
  {
   "cell_type": "markdown",
   "source": [
    "# 作用域与命名空间"
   ],
   "metadata": {}
  },
  {
   "cell_type": "markdown",
   "source": [
    "## 作用域（scope）\n",
    "\n",
    "- 作用域指的是变量生效的区域\n",
    "- 在 Python 中一共有两种作用域：\n",
    "  - 全局作用域\n",
    "    - 全局作用域在程序执行时创建，在程序执行结束时销毁\n",
    "    - 所有函数以外的区域都是全局作用域\n",
    "    - 在全局作用域中定义的变量，都属于全局变量\n",
    "    - 全局变量可以在程序的任意位置被访问\n",
    "  - 函数作用域\n",
    "    - 函数作用域在函数调用时创建，在函数调用结束时销毁\n",
    "    - 函数每调用一次就会产生一个新的函数作用域\n",
    "    - 在函数作用域中定义的变量，都是局部变量，只能在函数内部被访问"
   ],
   "metadata": {}
  },
  {
   "cell_type": "code",
   "execution_count": null,
   "source": [
    "def my_func1():\n",
    "    a = 'Inside a'  # a 定义在函数内部，所以它的作用域就是函数内部，函数外部无法访问\n",
    "    print(f'a = {a}')\n",
    "    print(f'b = {b}')\n",
    "\n",
    "\n",
    "a = 'Outside a'\n",
    "b = 'Outside b'\n",
    "\n",
    "my_func1()\n",
    "print(f'a = {a}')\n",
    "print(f'b = {b}')"
   ],
   "outputs": [],
   "metadata": {}
  },
  {
   "cell_type": "markdown",
   "source": [
    "### 变量的查找\n",
    "\n",
    "- 当使用变量时，会优先在当前作用域中寻找该变量\n",
    "  - 如果有则使用\n",
    "  - 如果没有则继续去上一级作用域中寻找\n",
    "  - 如果依然没有则继续去上一级作用域中寻找\n",
    "  - 直到找到全局作用域，如果依然没有找到，则会抛出异常 `NameError`"
   ],
   "metadata": {}
  },
  {
   "cell_type": "code",
   "execution_count": null,
   "source": [
    "def func1():\n",
    "    a = 1 # 在函数中为变量赋值时，默认都是为局部变量赋值\n",
    "\n",
    "    def func2():\n",
    "        a = 2 # 在函数中为变量赋值时，默认都是为局部变量赋值\n",
    "        print(f'func2: a = {a}')\n",
    "\n",
    "    return func2\n",
    "\n",
    "\n",
    "a = 0\n",
    "\n",
    "func1()()"
   ],
   "outputs": [],
   "metadata": {}
  },
  {
   "cell_type": "markdown",
   "source": [
    "- 如果希望在函数内部修改全局变量，则需要通过 `global` 关键字来声明变量\n",
    "- 此时再去修改 / 调用变量时，就是在修改 / 调用全局变量"
   ],
   "metadata": {}
  },
  {
   "cell_type": "code",
   "execution_count": null,
   "source": [
    "def func1():\n",
    "    a = 1  # 在函数中为变量赋值时，默认都是为局部变量赋值\n",
    "\n",
    "    def func2():\n",
    "        global a\n",
    "        a = 2\n",
    "        print(f'func2: a = {a}')  # 2\n",
    "\n",
    "    func2()\n",
    "    print(f'func1: a = {a}')  # 1\n",
    "\n",
    "\n",
    "a = 0\n",
    "\n",
    "func1()\n",
    "print(f'global: a = {a}')  # 2"
   ],
   "outputs": [],
   "metadata": {}
  },
  {
   "cell_type": "markdown",
   "source": [
    "## 命名空间（namespace）\n",
    "\n",
    "- 命名空间指的是变量存储的位置\n",
    "- 每一个变量都需要存储到指定的命名空间当中\n",
    "- 每一个作用域都会有一个它对应的命名空间\n",
    "- 全局命名空间\n",
    "   - 用来保存全局变量\n",
    "- 函数命名空间\n",
    "   - 用来保存函数中的变量\n",
    "- 命名空间实际上就是一个字典，是一个专门用来存储变量的字典"
   ],
   "metadata": {}
  },
  {
   "cell_type": "markdown",
   "source": [
    "### `locals()`\n",
    "\n",
    "- `locals()` 用来获取当前作用域的命名空间\n",
    "  - 如果在全局作用域中调用 `locals()` 则获取全局命名空间\n",
    "  - 如果在函数中调用 `locals()` 则获取函数命名空间"
   ],
   "metadata": {}
  },
  {
   "cell_type": "code",
   "execution_count": null,
   "source": [
    "global_namespace = locals()\n",
    "\n",
    "print(f'global_namespace = {global_namespace}\\n')\n",
    "print(f'type(global_namespace) = {type(global_namespace)}\\n')\n",
    "print(global_namespace is global_namespace['global_namespace'])\n",
    "\n",
    "global_namespace.setdefault('a','Hello World!')\n",
    "print(f'a = {a}')"
   ],
   "outputs": [],
   "metadata": {}
  },
  {
   "cell_type": "code",
   "execution_count": null,
   "source": [
    "def func1() -> dict:\n",
    "    a = 1\n",
    "    func1_scope = locals()\n",
    "    func1_scope['b'] = 2\n",
    "    # print(f'b = {b}') # 可能报错\n",
    "    return func1_scope\n",
    "\n",
    "\n",
    "print(f'type(func1()) = {type(func1())}')\n",
    "print(f'func1() = {func1()}')"
   ],
   "outputs": [],
   "metadata": {}
  },
  {
   "cell_type": "markdown",
   "source": [
    "## `globals()`\n",
    "\n",
    "- `globals()` 函数可以用来在任意位置获取全局命名空间"
   ],
   "metadata": {}
  },
  {
   "cell_type": "code",
   "execution_count": null,
   "source": [
    "a = 10\n",
    "\n",
    "def func1() -> dict:\n",
    "    a = 20\n",
    "    global_scope = globals()\n",
    "    return global_scope\n",
    "\n",
    "\n",
    "print(f'type(func1()) = {type(func1())}\\n')\n",
    "print(f'func1() = {func1()}\\n')\n",
    "print(f\"func1()['a'] = {func1()['a']}\")"
   ],
   "outputs": [],
   "metadata": {}
  }
 ],
 "metadata": {
  "orig_nbformat": 4,
  "language_info": {
   "name": "python",
   "version": "3.9.6",
   "mimetype": "text/x-python",
   "codemirror_mode": {
    "name": "ipython",
    "version": 3
   },
   "pygments_lexer": "ipython3",
   "nbconvert_exporter": "python",
   "file_extension": ".py"
  },
  "kernelspec": {
   "name": "python3",
   "display_name": "Python 3.9.6 64-bit"
  },
  "interpreter": {
   "hash": "e7370f93d1d0cde622a1f8e1c04877d8463912d04d973331ad4851f04de6915a"
  }
 },
 "nbformat": 4,
 "nbformat_minor": 2
}