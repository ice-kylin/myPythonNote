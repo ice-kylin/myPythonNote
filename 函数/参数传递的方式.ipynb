{
 "cells": [
  {
   "cell_type": "markdown",
   "source": [
    "# 参数传递的方式"
   ],
   "metadata": {}
  },
  {
   "cell_type": "markdown",
   "source": [
    "- 定义形参时，可以为形参指定默认值\n",
    "    - 指定了默认值后，如果用户传递了实参，则默认值没有任何作用\n",
    "    - 如果用户没有传递，则默认值就会生效"
   ],
   "metadata": {}
  },
  {
   "cell_type": "code",
   "execution_count": null,
   "source": [
    "def fn(a, b, c=1000):\n",
    "    print(f'a = {a}')\n",
    "    print(f'b = {b}')\n",
    "    print(f'c = {c}')\n",
    "\n",
    "\n",
    "fn(1, 2, 3)\n",
    "fn(1, 2)"
   ],
   "outputs": [],
   "metadata": {}
  },
  {
   "cell_type": "markdown",
   "source": [
    "## 实参的传递方式\n",
    "\n",
    "1. 位置参数\n",
    "    - 位置参数就是将对应位置的实参赋值给对应位置的形参\n",
    "        - 第一个实参赋值给第一个形参，第二个实参赋值给第二个形参，第三个实参赋值给第三个形参...\n",
    "2. 关键字参数\n",
    "    - 关键字参数可以不按照形参定义的顺序去传递，而直接根据参数名去传递参数\n",
    "\n",
    "- 位置参数和关键字参数可以混合使用\n",
    "    - 混合使用位置参数和关键字参数时，必须将位置参数写到前面，否则会抛出异常 `SyntaxError`\n",
    "    - 如果位置参数和关键字参数代表一个形参时，会抛出异常 `TypeError`"
   ],
   "metadata": {}
  },
  {
   "cell_type": "code",
   "execution_count": null,
   "source": [
    "def fn(a, b=100, c=1000):\n",
    "    print(f'a = {a}')\n",
    "    print(f'b = {b}')\n",
    "    print(f'c = {c}')\n",
    "\n",
    "\n",
    "fn(1, 2, 3)\n",
    "print()\n",
    "fn(c=1, b=2, a=3)\n",
    "print()\n",
    "fn(10, c=233)"
   ],
   "outputs": [],
   "metadata": {}
  }
 ],
 "metadata": {
  "interpreter": {
   "hash": "767d51c1340bd893661ea55ea3124f6de3c7a262a8b4abca0554b478b1e2ff90"
  },
  "kernelspec": {
   "name": "python3",
   "display_name": "Python 3.9.6 64-bit"
  },
  "language_info": {
   "codemirror_mode": {
    "name": "ipython",
    "version": 3
   },
   "file_extension": ".py",
   "mimetype": "text/x-python",
   "name": "python",
   "nbconvert_exporter": "python",
   "pygments_lexer": "ipython3",
   "version": "3.9.6"
  },
  "orig_nbformat": 2
 },
 "nbformat": 4,
 "nbformat_minor": 2
}