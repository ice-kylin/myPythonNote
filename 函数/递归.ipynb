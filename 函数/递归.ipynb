{
 "cells": [
  {
   "cell_type": "markdown",
   "source": [
    "# 递归"
   ],
   "metadata": {}
  },
  {
   "cell_type": "markdown",
   "source": [
    "- 递归是解决问题的一种方式，它和循环很像\n",
    "- 整体思想\n",
    "  - 将大问题分解为一个个小问题\n",
    "  - 直到问题无法分解时，再去解决问题\n",
    "- 递归式函数的两个条件\n",
    "  1. 基线条件 —— 问题可以被分解为的最小问题，当满足基线条件时，递归就不再执行了\n",
    "  2. 递归条件 —— 将问题继续分解的条件"
   ],
   "metadata": {}
  },
  {
   "cell_type": "code",
   "execution_count": null,
   "source": [
    "def calc_factorial(num: int) -> int:\n",
    "    '''\n",
    "    计算阶乘（递归版）\n",
    "    '''\n",
    "    if num > 1:\n",
    "        rst = num * calc_factorial(num - 1)\n",
    "    else:\n",
    "        rst = 1\n",
    "\n",
    "    return rst\n",
    "\n",
    "\n",
    "rst = calc_factorial(10)\n",
    "print(f'rst = {rst}')"
   ],
   "outputs": [],
   "metadata": {}
  },
  {
   "cell_type": "code",
   "execution_count": null,
   "source": [
    "def calc_factorial(nums: int) -> int:\n",
    "    '''\n",
    "    计算阶乘（循环版）\n",
    "    '''\n",
    "    rst = 1\n",
    "    for num in range(2, nums + 1):\n",
    "        rst *= num\n",
    "\n",
    "    return rst\n",
    "\n",
    "\n",
    "rst = calc_factorial(10)\n",
    "print(f'rst = {rst}')"
   ],
   "outputs": [],
   "metadata": {}
  }
 ],
 "metadata": {
  "orig_nbformat": 4,
  "language_info": {
   "name": "python",
   "version": "3.9.6",
   "mimetype": "text/x-python",
   "codemirror_mode": {
    "name": "ipython",
    "version": 3
   },
   "pygments_lexer": "ipython3",
   "nbconvert_exporter": "python",
   "file_extension": ".py"
  },
  "kernelspec": {
   "name": "python3",
   "display_name": "Python 3.9.6 64-bit"
  },
  "interpreter": {
   "hash": "e7370f93d1d0cde622a1f8e1c04877d8463912d04d973331ad4851f04de6915a"
  }
 },
 "nbformat": 4,
 "nbformat_minor": 2
}