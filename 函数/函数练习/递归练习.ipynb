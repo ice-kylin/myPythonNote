{
 "cells": [
  {
   "cell_type": "markdown",
   "source": [
    "# 为任意数字做幂运算\n",
    "\n",
    "## 递归版"
   ],
   "metadata": {}
  },
  {
   "cell_type": "code",
   "execution_count": null,
   "source": [
    "def calc_power(num: int, index: int) -> int:\n",
    "    '''\n",
    "    幂运算\n",
    "    参数:\n",
    "        num: 底数\n",
    "        index: 指数\n",
    "    '''\n",
    "    if index > 1:\n",
    "        return num * calc_power(num, index - 1)\n",
    "    elif index == 0:\n",
    "        return 1\n",
    "    else:\n",
    "        return num\n",
    "\n",
    "\n",
    "print(f'calc_power(2, 3) = {calc_power(2, 3)}')\n",
    "print(f'calc_power(2, 0) = {calc_power(2, 0)}')"
   ],
   "outputs": [],
   "metadata": {}
  },
  {
   "cell_type": "markdown",
   "source": [
    "## 函数版"
   ],
   "metadata": {}
  },
  {
   "cell_type": "code",
   "execution_count": null,
   "source": [
    "def calc_power(num: int, index: int) -> int:\n",
    "    '''\n",
    "    幂运算\n",
    "    参数:\n",
    "        num: 底数\n",
    "        index: 指数\n",
    "    '''\n",
    "    rst = 1\n",
    "    for i in range(index):\n",
    "        rst *= num\n",
    "    return rst\n",
    "\n",
    "\n",
    "print(f'calc_power(2, 3) = {calc_power(2, 3)}')\n",
    "print(f'calc_power(2, 0) = {calc_power(2, 0)}')"
   ],
   "outputs": [],
   "metadata": {}
  },
  {
   "cell_type": "markdown",
   "source": [
    "# 检查一个任意字符串是否是回文字符串\n",
    "\n",
    "- 回文字符串 —— 字符串从前往后和从后往前念是一样的\n",
    "\n",
    "## 递归版"
   ],
   "metadata": {}
  },
  {
   "cell_type": "code",
   "execution_count": null,
   "source": [
    "def check_palindrome_str(test_str: str) -> bool:\n",
    "    '''\n",
    "    检查字符串是否为回文字符串\n",
    "    参数:\n",
    "        str: 需要检查的字符串\n",
    "    '''\n",
    "    if len(test_str) <= 1:\n",
    "        return True\n",
    "    elif test_str[0] != test_str[-1]:\n",
    "        return False\n",
    "    else:\n",
    "        return check_palindrome_str(test_str[1:-1])\n",
    "\n",
    "\n",
    "print(\n",
    "    f\"check_palindrome_str('上海自来水来自海上') = {check_palindrome_str('上海自来水来自海上')}\")\n",
    "print(f\"check_palindrome_str('abc') = {check_palindrome_str('abc')}\")"
   ],
   "outputs": [],
   "metadata": {}
  },
  {
   "cell_type": "markdown",
   "source": [
    "## 函数版"
   ],
   "metadata": {}
  },
  {
   "cell_type": "code",
   "execution_count": null,
   "source": [
    "def check_palindrome_str(test_str: str) -> bool:\n",
    "    '''\n",
    "    检查字符串是否为回文字符串\n",
    "    参数:\n",
    "        str: 需要检查的字符串\n",
    "    '''\n",
    "    flag = True\n",
    "    str_len = len(test_str)\n",
    "\n",
    "    for i in range(str_len // 2):\n",
    "        if test_str[i] != test_str[str_len - i - 1]:\n",
    "            flag = False\n",
    "\n",
    "    return flag\n",
    "\n",
    "\n",
    "print(\n",
    "    f\"check_palindrome_str('上海自来水来自海上') = {check_palindrome_str('上海自来水来自海上')}\")\n",
    "print(f\"check_palindrome_str('abc') = {check_palindrome_str('abc')}\")"
   ],
   "outputs": [],
   "metadata": {}
  }
 ],
 "metadata": {
  "orig_nbformat": 4,
  "language_info": {
   "name": "python",
   "version": "3.9.6",
   "mimetype": "text/x-python",
   "codemirror_mode": {
    "name": "ipython",
    "version": 3
   },
   "pygments_lexer": "ipython3",
   "nbconvert_exporter": "python",
   "file_extension": ".py"
  },
  "kernelspec": {
   "name": "python3",
   "display_name": "Python 3.9.6 64-bit"
  },
  "interpreter": {
   "hash": "e7370f93d1d0cde622a1f8e1c04877d8463912d04d973331ad4851f04de6915a"
  }
 },
 "nbformat": 4,
 "nbformat_minor": 2
}