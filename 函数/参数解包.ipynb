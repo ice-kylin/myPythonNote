{
 "cells": [
  {
   "cell_type": "markdown",
   "metadata": {},
   "source": [
    "# 参数解包"
   ]
  },
  {
   "cell_type": "markdown",
   "metadata": {},
   "source": [
    "- 传递实参时，也可以在序列类型的参数前添加 `*`，这样会自动将序列中的元素依次作为参数传递\n",
    "- 这里要求序列中的元素个数必须和形参的个数一致"
   ]
  },
  {
   "cell_type": "code",
   "execution_count": null,
   "metadata": {},
   "outputs": [],
   "source": [
    "def my_func1(a, b, c):\n",
    "    print(f'a = {a}')\n",
    "    print(f'b = {b}')\n",
    "    print(f'c = {c}')\n",
    "\n",
    "\n",
    "my_func1(1, 2, 3)\n",
    "args1 = (1, 2, 3)\n",
    "my_func1(*args1)\n",
    "args2 = [1, 2, 3]\n",
    "my_func1(*args2)"
   ]
  },
  {
   "cell_type": "markdown",
   "metadata": {},
   "source": [
    "- 通过 `**` 来对一个字典进行解包操作"
   ]
  },
  {
   "cell_type": "code",
   "execution_count": null,
   "metadata": {},
   "outputs": [],
   "source": [
    "def my_func2(a, c, b, **d):\n",
    "    print(f'a = {a}')\n",
    "    print(f'b = {b}')\n",
    "    print(f'c = {c}')\n",
    "    print(f'd = {d}')\n",
    "\n",
    "\n",
    "args3 = {'a': 1, 'b': 2, 'c': 3, 'e': 4}\n",
    "my_func2(**args3)"
   ]
  }
 ],
 "metadata": {
  "interpreter": {
   "hash": "e7370f93d1d0cde622a1f8e1c04877d8463912d04d973331ad4851f04de6915a"
  },
  "kernelspec": {
   "display_name": "Python 3.9.6 64-bit",
   "name": "python3"
  },
  "language_info": {
   "codemirror_mode": {
    "name": "ipython",
    "version": 3
   },
   "file_extension": ".py",
   "mimetype": "text/x-python",
   "name": "python",
   "nbconvert_exporter": "python",
   "pygments_lexer": "ipython3",
   "version": "3.10.0"
  },
  "orig_nbformat": 4
 },
 "nbformat": 4,
 "nbformat_minor": 2
}
