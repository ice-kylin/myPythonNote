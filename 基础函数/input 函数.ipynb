{
 "metadata": {
  "language_info": {
   "codemirror_mode": {
    "name": "ipython",
    "version": 3
   },
   "file_extension": ".py",
   "mimetype": "text/x-python",
   "name": "python",
   "nbconvert_exporter": "python",
   "pygments_lexer": "ipython3",
   "version": "3.9.2"
  },
  "orig_nbformat": 2,
  "kernelspec": {
   "name": "python3",
   "display_name": "Python 3",
   "language": "python"
  }
 },
 "nbformat": 4,
 "nbformat_minor": 2,
 "cells": [
  {
   "source": [
    "# `input` 函数"
   ],
   "cell_type": "markdown",
   "metadata": {}
  },
  {
   "source": [
    "- 该函数用来获取用户的输入\n",
    "- `input()` 调用后，程序会立即暂停，等待用户输入\n",
    "    - 用户输入完内容以后，点击回车程序才会继续向下执行\n",
    "    - 用户输入完内容以后，其所输入的内容会以返回值的形式返回\n",
    "- `input()` 的返回值是字符串\n",
    "- 可以设置一个字符串作为参数，这个字符串会作为提示文字显示\n",
    "- `input()` 也可以用于暂时阻止程序结束"
   ],
   "cell_type": "markdown",
   "metadata": {}
  },
  {
   "cell_type": "code",
   "execution_count": null,
   "metadata": {},
   "outputs": [],
   "source": [
    "content = input('输入任意内容：')\n",
    "print(f'用户输入的内容是：{content}')"
   ]
  }
 ]
}