{
 "metadata": {
  "language_info": {
   "codemirror_mode": {
    "name": "ipython",
    "version": 3
   },
   "file_extension": ".py",
   "mimetype": "text/x-python",
   "name": "python",
   "nbconvert_exporter": "python",
   "pygments_lexer": "ipython3",
   "version": "3.9.6"
  },
  "orig_nbformat": 2,
  "kernelspec": {
   "name": "python3",
   "display_name": "Python 3.9.6 64-bit"
  },
  "interpreter": {
   "hash": "e7370f93d1d0cde622a1f8e1c04877d8463912d04d973331ad4851f04de6915a"
  }
 },
 "nbformat": 4,
 "nbformat_minor": 2,
 "cells": [
  {
   "cell_type": "markdown",
   "source": [
    "# 数值"
   ],
   "metadata": {}
  },
  {
   "cell_type": "markdown",
   "source": [
    "## 整数\n",
    "- 所有整数都是 int 类型\n",
    "- Python 中整数的大小没有限制，可以是一个无限大的整数\n",
    "- 如果数字长度过大，可以使用 `_` 作为分隔符\n",
    "- 十进制的数不能以 `0` 开头\n",
    "- 其它进制\n",
    "    - 二进制 - `0b` 开头\n",
    "    - 八进制 - `0o` 开头\n",
    "    - 十六进制 - `0x` 开头\n",
    "- 数字打印时都是以十进制的形式显示的\n",
    "- 可以通过运算符对数字进行运算，并且可以保证整数运算的精确"
   ],
   "metadata": {}
  },
  {
   "cell_type": "code",
   "execution_count": null,
   "source": [
    "a = 10\n",
    "b = 20\n",
    "c = 100_000\n",
    "d = 0b01\n",
    "print(a)\n",
    "print(b)\n",
    "print(c)\n",
    "print(d)"
   ],
   "outputs": [],
   "metadata": {}
  },
  {
   "cell_type": "markdown",
   "source": [
    "## 浮点数\n",
    "- 浮点数（小数），在 Python 中都是浮点类型\n",
    "- 对浮点数进行运算时，可能会得到不精确的结果"
   ],
   "metadata": {}
  },
  {
   "cell_type": "code",
   "execution_count": null,
   "source": [
    "a = 1.23\n",
    "b = 0.1 + 0.2\n",
    "print(a)\n",
    "print(b)"
   ],
   "outputs": [],
   "metadata": {}
  }
 ]
}