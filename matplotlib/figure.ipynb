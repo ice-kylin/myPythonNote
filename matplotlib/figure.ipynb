{
 "cells": [
  {
   "cell_type": "markdown",
   "metadata": {},
   "source": [
    "# `figure` 图像"
   ]
  },
  {
   "cell_type": "code",
   "execution_count": null,
   "metadata": {},
   "outputs": [],
   "source": [
    "import matplotlib.pyplot as plt\n",
    "import numpy as np\n",
    "\n",
    "x = np.linspace(-1,1,50)\n",
    "y1 = 2*x+1\n",
    "y2 = x**2\n",
    "y3 = x**2\n",
    "\n",
    "plt.figure()\n",
    "plt.plot(x,y1)\n",
    "\n",
    "plt.figure()\n",
    "plt.plot(x,y2)\n",
    "\n",
    "plt.figure(num='5',figsize=(8,5))\n",
    "plt.plot(x,y1,color='red',linewidth=1.0,linestyle='--')\n",
    "plt.plot(x,y3)\n",
    "\n",
    "plt.show()"
   ]
  }
 ],
 "metadata": {
  "interpreter": {
   "hash": "767d51c1340bd893661ea55ea3124f6de3c7a262a8b4abca0554b478b1e2ff90"
  },
  "kernelspec": {
   "display_name": "Python 3.9.5 64-bit",
   "name": "python3"
  },
  "language_info": {
   "codemirror_mode": {
    "name": "ipython",
    "version": 3
   },
   "file_extension": ".py",
   "mimetype": "text/x-python",
   "name": "python",
   "nbconvert_exporter": "python",
   "pygments_lexer": "ipython3",
   "version": "3.9.5"
  },
  "orig_nbformat": 4
 },
 "nbformat": 4,
 "nbformat_minor": 2
}