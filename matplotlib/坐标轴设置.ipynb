{
 "cells": [
  {
   "cell_type": "markdown",
   "metadata": {},
   "source": [
    "# 坐标轴设置"
   ]
  },
  {
   "cell_type": "code",
   "execution_count": null,
   "metadata": {},
   "outputs": [],
   "source": [
    "import matplotlib.pyplot as plt\n",
    "import numpy as np\n",
    "\n",
    "x = np.linspace(-3,3,50)\n",
    "y1 = 2*x+1\n",
    "y2 = x**2\n",
    "\n",
    "plt.figure()\n",
    "plt.plot(x,y1,color='red',linewidth=1.0,linestyle='--')\n",
    "plt.plot(x,y2)\n",
    "\n",
    "plt.xlim((-1,2))\n",
    "plt.ylim((-2,3))\n",
    "\n",
    "plt.xlabel(\"I'm x\")\n",
    "plt.ylabel(\"I'm y\")\n",
    "\n",
    "new_ticks = np.linspace(-1,2,5)\n",
    "print(new_ticks)\n",
    "plt.xticks(new_ticks)\n",
    "plt.yticks([-1,0,1,2,3],['really bad','bad','normal','good','really good'])\n",
    "\n",
    "plt.show()"
   ]
  },
  {
   "cell_type": "code",
   "execution_count": null,
   "metadata": {},
   "outputs": [],
   "source": [
    "import matplotlib.pyplot as plt\n",
    "import numpy as np\n",
    "\n",
    "x = np.linspace(-3,3,50)\n",
    "y1 = 2*x+1\n",
    "y2 = x**2\n",
    "\n",
    "plt.figure()\n",
    "plt.plot(x,y1,color='red',linewidth=1.0,linestyle='--')\n",
    "plt.plot(x,y2)\n",
    "\n",
    "plt.xlim((-1,2))\n",
    "plt.ylim((-2,3))\n",
    "\n",
    "plt.xlabel(\"I'm x\")\n",
    "plt.ylabel(\"I'm y\")\n",
    "\n",
    "new_ticks = np.linspace(-1,2,5)\n",
    "print(new_ticks)\n",
    "plt.xticks(new_ticks)\n",
    "plt.yticks([-1,0,1,2,3],['really bad','bad','normal','good','really good'])\n",
    "\n",
    "plt.show()"
   ]
  }
 ],
 "metadata": {
  "interpreter": {
   "hash": "767d51c1340bd893661ea55ea3124f6de3c7a262a8b4abca0554b478b1e2ff90"
  },
  "kernelspec": {
   "display_name": "Python 3.9.5 64-bit",
   "name": "python3"
  },
  "language_info": {
   "codemirror_mode": {
    "name": "ipython",
    "version": 3
   },
   "file_extension": ".py",
   "mimetype": "text/x-python",
   "name": "python",
   "nbconvert_exporter": "python",
   "pygments_lexer": "ipython3",
   "version": "3.9.5"
  },
  "orig_nbformat": 4
 },
 "nbformat": 4,
 "nbformat_minor": 2
}