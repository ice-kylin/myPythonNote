{
 "metadata": {
  "language_info": {
   "codemirror_mode": {
    "name": "ipython",
    "version": 3
   },
   "file_extension": ".py",
   "mimetype": "text/x-python",
   "name": "python",
   "nbconvert_exporter": "python",
   "pygments_lexer": "ipython3",
   "version": 3
  },
  "orig_nbformat": 2
 },
 "nbformat": 4,
 "nbformat_minor": 2,
 "cells": [
  {
   "source": [
    "# Python 交互界面\n",
    "> 写一行执行一行，不适用于日常开发"
   ],
   "cell_type": "markdown",
   "metadata": {}
  },
  {
   "source": [
    "## 结构\n",
    "- 版本和版权声明\n",
    "    ```\n",
    "    Python 3.9.2 (default, Feb 20 2021, 18:40:11) \n",
    "    [GCC 10.2.0] on linux\n",
    "    Type \"help\", \"copyright\", \"credits\" or \"license\" for more information.\n",
    "    ```\n",
    "- 命令提示符\n",
    "    ```\n",
    "    >>>\n",
    "    ```"
   ],
   "cell_type": "markdown",
   "metadata": {}
  },
  {
   "source": [
    "## 退出\n",
    "```\n",
    "exit()\n",
    "```"
   ],
   "cell_type": "markdown",
   "metadata": {}
  }
 ]
}