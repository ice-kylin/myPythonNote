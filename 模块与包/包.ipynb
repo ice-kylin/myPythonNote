{
 "cells": [
  {
   "cell_type": "markdown",
   "metadata": {},
   "source": [
    "# 包"
   ]
  },
  {
   "cell_type": "markdown",
   "metadata": {},
   "source": [
    "- 包也是一个模块\n",
    "- 当模块中代码过多时，或者一个模块需要被分解为多个模块时，就需要使用到包\n",
    "- 普通的模块就是一个 `.py` 文件，而包是一个文件夹\n",
    "  - 包中必须要有一个 `__init__.py` 这个文件，这个文件中可以包含包中的主要内容\n",
    "\n",
    "## `__pycache__`\n",
    "\n",
    "- 是模块的缓存文件\n",
    "- `.py` 代码执行前，需要被解析器先转换为机器码，然后再执行\n",
    "  - 而为了提高程序运行的性能，Python 会在编译过一次后将机器码保存到一个缓存文件中\n",
    "  - 在下次加载这个模块（包）时，就可以不再重新编译而是直接加载缓存中编译好的机器码即可"
   ]
  },
  {
   "cell_type": "code",
   "execution_count": null,
   "metadata": {},
   "outputs": [],
   "source": []
  }
 ],
 "metadata": {
  "language_info": {
   "name": "python"
  },
  "orig_nbformat": 4
 },
 "nbformat": 4,
 "nbformat_minor": 2
}
