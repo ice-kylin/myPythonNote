{
 "cells": [
  {
   "cell_type": "markdown",
   "metadata": {},
   "source": [
    "# 模块的使用"
   ]
  },
  {
   "cell_type": "markdown",
   "metadata": {},
   "source": [
    "- 可以在模块中定义变量\n",
    "  - 在模块中定义的变量，在引入模块后，就可以直接使用了\n",
    "  - 访问模块中的变量：`模块名.变量名`\n",
    "- 可以在模块中定义函数\n",
    "  - 同样可以通过模块访问到\n",
    "- 可以在模块中定义类\n",
    "- 添加了 `_` 开头的变量 / 函数，只能在模块内部访问\n",
    "  - 在通过 `import *` 引入时，不会引入 `_` 开头的变量\n",
    "- 编写测试代码，这部分代码只有当当前文件作为主模块的时候才需要执行\n",
    "  - 而当模块被其它模块引入时不需要执行，此时就必须检查当前模块是否为主模块\n",
    "    - `if __name__ == '__main__':`"
   ]
  }
 ],
 "metadata": {
  "language_info": {
   "name": "python"
  },
  "orig_nbformat": 4
 },
 "nbformat": 4,
 "nbformat_minor": 2
}
