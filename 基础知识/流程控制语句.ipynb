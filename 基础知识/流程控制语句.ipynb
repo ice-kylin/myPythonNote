{
 "metadata": {
  "language_info": {
   "codemirror_mode": {
    "name": "ipython",
    "version": 3
   },
   "file_extension": ".py",
   "mimetype": "text/x-python",
   "name": "python",
   "nbconvert_exporter": "python",
   "pygments_lexer": "ipython3",
   "version": 3
  },
  "orig_nbformat": 2
 },
 "nbformat": 4,
 "nbformat_minor": 2,
 "cells": [
  {
   "source": [
    "# 流程控制语句"
   ],
   "cell_type": "markdown",
   "metadata": {}
  },
  {
   "source": [
    "- Python 代码在执行是按照自上向下顺序执行的\n",
    "- 通过流程控制语句，可以改变程序的执行顺序，也可以让指定的程序反复执行多次\n",
    "- 两大类\n",
    "    - 条件判断语句\n",
    "    - 循环语句"
   ],
   "cell_type": "markdown",
   "metadata": {}
  }
 ]
}