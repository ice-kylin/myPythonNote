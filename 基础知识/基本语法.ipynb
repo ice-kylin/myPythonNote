{
 "metadata": {
  "language_info": {
   "codemirror_mode": {
    "name": "ipython",
    "version": 3
   },
   "file_extension": ".py",
   "mimetype": "text/x-python",
   "name": "python",
   "nbconvert_exporter": "python",
   "pygments_lexer": "ipython3",
   "version": "3.9.2"
  },
  "orig_nbformat": 2,
  "kernelspec": {
   "name": "python3",
   "display_name": "Python 3",
   "language": "python"
  }
 },
 "nbformat": 4,
 "nbformat_minor": 2,
 "cells": [
  {
   "source": [
    "# 基本语法"
   ],
   "cell_type": "markdown",
   "metadata": {}
  },
  {
   "source": [
    "1. Python 中严格区分大小写\n",
    "2. Python 中的每一行就是一条语句，每条语句以换行结束\n",
    "3. Python 中每一行语句不要过长（规范中建议每行不要超过 80 个字符）\n",
    "4. 一条语句可以分多行编写，语句后面与 `\\` 结尾"
   ],
   "cell_type": "markdown",
   "metadata": {}
  },
  {
   "cell_type": "code",
   "execution_count": null,
   "metadata": {},
   "outputs": [],
   "source": [
    "print('Hello\\\n",
    " World')"
   ]
  },
  {
   "source": [
    "5. Python 是缩进严格的语言\n",
    "6. 注释\n",
    "    - 单行注释\n",
    "    - 多行注释    "
   ],
   "cell_type": "markdown",
   "metadata": {}
  },
  {
   "cell_type": "code",
   "execution_count": null,
   "metadata": {},
   "outputs": [],
   "source": [
    "# 单行注释\n",
    "\n",
    "\"\"\"\n",
    "多行注释\n",
    "\"\"\""
   ]
  }
 ]
}