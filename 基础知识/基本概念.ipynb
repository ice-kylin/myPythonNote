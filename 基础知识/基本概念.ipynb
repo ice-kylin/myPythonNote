{
 "metadata": {
  "language_info": {
   "codemirror_mode": {
    "name": "ipython",
    "version": 3
   },
   "file_extension": ".py",
   "mimetype": "text/x-python",
   "name": "python",
   "nbconvert_exporter": "python",
   "pygments_lexer": "ipython3",
   "version": "3.9.2"
  },
  "orig_nbformat": 2,
  "kernelspec": {
   "name": "python3",
   "display_name": "Python 3",
   "language": "python"
  }
 },
 "nbformat": 4,
 "nbformat_minor": 2,
 "cells": [
  {
   "source": [
    "# 基本概念"
   ],
   "cell_type": "markdown",
   "metadata": {}
  },
  {
   "source": [
    "1. 表达式\n",
    "    - 表达式类似于数学公式，不会对程序产生实质性影响\n",
    "    - 交互模式中会输出表达式的执行结果\n",
    "    - 例子\n"
   ],
   "cell_type": "markdown",
   "metadata": {}
  },
  {
   "cell_type": "code",
   "execution_count": null,
   "metadata": {},
   "outputs": [],
   "source": [
    "10 + 5"
   ]
  },
  {
   "source": [
    "2. 语句\n",
    "    - 语句一般需要完成某种功能，比如打印信息\n",
    "    - 交互模式中不一定会输出语句的执行结果\n",
    "    - 例子"
   ],
   "cell_type": "markdown",
   "metadata": {}
  },
  {
   "cell_type": "code",
   "execution_count": null,
   "metadata": {},
   "outputs": [],
   "source": [
    "a = 10"
   ]
  },
  {
   "source": [
    "3. 程序\n",
    "    - 程序由一条一条语句和表达式构成\n",
    "4. 函数\n",
    "    - 函数是一种语句，用来完成特定的功能\n",
    "    - 分类\n",
    "        - 内置函数\n",
    "            > Python 解释器提供的函数，可以在 Python 中直接使用\n",
    "        - 自定义函数\n",
    "            > 由程序员自主创建的函数\n",
    "     - 两个要素\n",
    "        1. 参数\n",
    "            > () 中的内容就是函数的参数\n",
    "            > 函数可以没有参数，也可以有多个参数\n",
    "            > 多个参数之间使用 `,` 隔开\n",
    "        2. 返回值\n",
    "            > 返回值是函数的返回结果\n",
    "            > 不是所有的函数都有返回值\n",
    "    - 例子"
   ],
   "cell_type": "markdown",
   "metadata": {}
  },
  {
   "cell_type": "code",
   "execution_count": null,
   "metadata": {},
   "outputs": [],
   "source": [
    "print('Hello')"
   ]
  }
 ]
}