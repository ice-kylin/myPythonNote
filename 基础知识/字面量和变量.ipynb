{
 "metadata": {
  "language_info": {
   "codemirror_mode": {
    "name": "ipython",
    "version": 3
   },
   "file_extension": ".py",
   "mimetype": "text/x-python",
   "name": "python",
   "nbconvert_exporter": "python",
   "pygments_lexer": "ipython3",
   "version": 3
  },
  "orig_nbformat": 2
 },
 "nbformat": 4,
 "nbformat_minor": 2,
 "cells": [
  {
   "source": [
    "# 字面量和变量"
   ],
   "cell_type": "markdown",
   "metadata": {}
  },
  {
   "source": [
    "## 字面量\n",
    "\n",
    "字面量就是一个一个的值\n",
    "\n",
    "字面量所表示的意思就是它字面的值，在程序中可以直接使用字面量"
   ],
   "cell_type": "markdown",
   "metadata": {}
  },
  {
   "source": [
    "## 变量\n",
    "\n",
    "变量本身没有任何意思，它会根据不同的字面量表示不同的意思\n",
    "\n",
    "变量可以用来保存字面量，并且变量中保存的字面量是不定的\n",
    "\n",
    "一般开发时很少直接使用字面量，都是将字面量保存到变量中，通过变量来引用字面量"
   ],
   "cell_type": "markdown",
   "metadata": {}
  }
 ]
}