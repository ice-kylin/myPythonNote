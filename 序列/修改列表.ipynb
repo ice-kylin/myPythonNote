{
 "metadata": {
  "language_info": {
   "codemirror_mode": {
    "name": "ipython",
    "version": 3
   },
   "file_extension": ".py",
   "mimetype": "text/x-python",
   "name": "python",
   "nbconvert_exporter": "python",
   "pygments_lexer": "ipython3",
   "version": "3.9.7"
  },
  "orig_nbformat": 2,
  "kernelspec": {
   "name": "python3",
   "display_name": "Python 3.9.7 64-bit"
  },
  "interpreter": {
   "hash": "e7370f93d1d0cde622a1f8e1c04877d8463912d04d973331ad4851f04de6915a"
  }
 },
 "nbformat": 4,
 "nbformat_minor": 2,
 "cells": [
  {
   "cell_type": "markdown",
   "source": [
    "# 修改列表\n",
    "\n",
    "- 只适用于可变序列，不可变序列无法通过索引来修改"
   ],
   "metadata": {}
  },
  {
   "cell_type": "markdown",
   "source": [
    "## 直接通过索引修改元素"
   ],
   "metadata": {}
  },
  {
   "cell_type": "code",
   "execution_count": null,
   "source": [
    "my_city = ['Guang Zhou','Wu Han','New York','Tokyo','Birmingham']\n",
    "print(my_city)\n",
    "\n",
    "my_city[0] = 'Beijing'\n",
    "print(my_city)"
   ],
   "outputs": [],
   "metadata": {}
  },
  {
   "cell_type": "markdown",
   "source": [
    "## 通过 `del` 来删除元素"
   ],
   "metadata": {}
  },
  {
   "cell_type": "code",
   "execution_count": null,
   "source": [
    "my_city = ['Guang Zhou','Wu Han','New York','Tokyo','Birmingham']\n",
    "print(my_city)\n",
    "\n",
    "del my_city[2]\n",
    "print(my_city)"
   ],
   "outputs": [],
   "metadata": {}
  },
  {
   "cell_type": "markdown",
   "source": [
    "## 通过切片修改列表\n",
    "\n",
    "- 在给切片进行赋值时，只能使用序列\n",
    "- 当设置了除 `1` 以外的步长时，序列中元素的个数必须和切片中元素的个数一致"
   ],
   "metadata": {}
  },
  {
   "cell_type": "code",
   "execution_count": null,
   "source": [
    "my_city = ['Guang Zhou','Wu Han','New York','Tokyo','Birmingham']\n",
    "print(my_city)\n",
    "\n",
    "my_city[0:3] = ['Shang Hai','Hang Zhou','Hong Kong']\n",
    "print(my_city)\n",
    "\n",
    "my_city[0:3] = '012'\n",
    "print(my_city)\n",
    "\n",
    "my_city[0:0] = ['Xi An'] # 向索引为 0 的位置插入元素\n",
    "print(my_city)"
   ],
   "outputs": [],
   "metadata": {}
  },
  {
   "cell_type": "code",
   "execution_count": null,
   "source": [
    "my_city = ['Guang Zhou','Wu Han','New York','Tokyo','Birmingham']\n",
    "print(my_city)\n",
    "\n",
    "my_city[::2] = ['Beijing','Xi An','Shang Hai']\n",
    "print(my_city)"
   ],
   "outputs": [],
   "metadata": {}
  },
  {
   "cell_type": "markdown",
   "source": [
    "## 通过切片删除元素"
   ],
   "metadata": {}
  },
  {
   "cell_type": "code",
   "execution_count": null,
   "source": [
    "my_city = ['Guang Zhou','Wu Han','New York','Tokyo','Birmingham']\n",
    "print(my_city)\n",
    "\n",
    "del my_city[:2]\n",
    "print(my_city)"
   ],
   "outputs": [],
   "metadata": {}
  },
  {
   "cell_type": "code",
   "execution_count": null,
   "source": [
    "my_city = ['Guang Zhou','Wu Han','New York','Tokyo','Birmingham']\n",
    "print(my_city)\n",
    "\n",
    "del my_city[::2]\n",
    "print(my_city)"
   ],
   "outputs": [],
   "metadata": {}
  },
  {
   "cell_type": "code",
   "execution_count": null,
   "source": [
    "my_city = ['Guang Zhou','Wu Han','New York','Tokyo','Birmingham']\n",
    "print(my_city)\n",
    "\n",
    "my_city[:2] = []\n",
    "print(my_city)"
   ],
   "outputs": [],
   "metadata": {}
  },
  {
   "cell_type": "markdown",
   "source": [
    "## `list()`\n",
    "\n",
    "- 可以通过 `list()` 函数将其它的序列转换为 `list`"
   ],
   "metadata": {}
  },
  {
   "cell_type": "code",
   "execution_count": null,
   "source": [
    "my_name = 'icekylin'\n",
    "print(my_name)\n",
    "\n",
    "my_name = list(my_name)\n",
    "print(my_name)"
   ],
   "outputs": [],
   "metadata": {}
  }
 ]
}