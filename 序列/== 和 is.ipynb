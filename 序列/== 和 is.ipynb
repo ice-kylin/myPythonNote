{
 "cells": [
  {
   "cell_type": "markdown",
   "source": [
    "# `==` 和 `is`"
   ],
   "metadata": {}
  },
  {
   "cell_type": "markdown",
   "source": [
    "- `==` 和 `!=`比较的是对象的值 `value` 是否相等\n",
    "- `is` 和 `is not` 比较的是对象的 `id` 是否相等（比较两个对象是否是同一个对象）"
   ],
   "metadata": {}
  },
  {
   "cell_type": "code",
   "execution_count": null,
   "source": [
    "a = [1, 2, 3]\n",
    "b = [1, 2, 3]\n",
    "\n",
    "print(f'id(a) = {id(a)}')\n",
    "print(f'id(b) = {id(b)}')\n",
    "print(a == b)\n",
    "print(a != b)"
   ],
   "outputs": [],
   "metadata": {}
  },
  {
   "cell_type": "code",
   "execution_count": null,
   "source": [
    "a = [1, 2, 3]\n",
    "b = [1, 2, 3]\n",
    "\n",
    "print(f'id(a) = {id(a)}')\n",
    "print(f'id(b) = {id(b)}')\n",
    "print(a is b)\n",
    "print(a is not b)"
   ],
   "outputs": [],
   "metadata": {}
  },
  {
   "cell_type": "code",
   "execution_count": null,
   "source": [
    "a = [1, 2, 3]\n",
    "b = a\n",
    "\n",
    "print(f'id(a) = {id(a)}')\n",
    "print(f'id(b) = {id(b)}')\n",
    "print(a is b)\n",
    "print(a is not b)"
   ],
   "outputs": [],
   "metadata": {}
  }
 ],
 "metadata": {
  "interpreter": {
   "hash": "e7370f93d1d0cde622a1f8e1c04877d8463912d04d973331ad4851f04de6915a"
  },
  "kernelspec": {
   "name": "python3",
   "display_name": "Python 3.9.6 64-bit"
  },
  "language_info": {
   "codemirror_mode": {
    "name": "ipython",
    "version": 3
   },
   "file_extension": ".py",
   "mimetype": "text/x-python",
   "name": "python",
   "nbconvert_exporter": "python",
   "pygments_lexer": "ipython3",
   "version": "3.9.6"
  },
  "orig_nbformat": 2
 },
 "nbformat": 4,
 "nbformat_minor": 2
}