{
 "cells": [
  {
   "cell_type": "markdown",
   "source": [
    "# `range()`"
   ],
   "metadata": {}
  },
  {
   "cell_type": "markdown",
   "source": [
    "- `range()` 可以生成一个自然数的序列\n",
    "- 三个参数：\n",
    "  1. 起始位置（可以省略，默认是 `0`）\n",
    "  2. 结束位置\n",
    "  3. 步长（可以省略，默认是 `1`）"
   ],
   "metadata": {}
  },
  {
   "cell_type": "code",
   "execution_count": null,
   "source": [
    "type_of_nums = type(range(5))\n",
    "print(f'type = {type_of_nums}')"
   ],
   "outputs": [],
   "metadata": {}
  },
  {
   "cell_type": "code",
   "execution_count": null,
   "source": [
    "nums = list(range(5))\n",
    "print(f'nums = {nums}')\n",
    "print(f'type = {type(nums)}')"
   ],
   "outputs": [],
   "metadata": {}
  },
  {
   "cell_type": "code",
   "execution_count": null,
   "source": [
    "nums = list(range(3,11))\n",
    "print(f'nums = {nums}')"
   ],
   "outputs": [],
   "metadata": {}
  },
  {
   "cell_type": "code",
   "execution_count": null,
   "source": [
    "nums = list(range(3,11,2))\n",
    "print(f'nums = {nums}')"
   ],
   "outputs": [],
   "metadata": {}
  },
  {
   "cell_type": "code",
   "execution_count": null,
   "source": [
    "nums = list(range(11,3,-1))\n",
    "print(f'nums = {nums}')"
   ],
   "outputs": [],
   "metadata": {}
  },
  {
   "cell_type": "markdown",
   "source": [
    "- 通过 `range()` 可以创建一个执行指定次数的 `for` 循环"
   ],
   "metadata": {}
  },
  {
   "cell_type": "code",
   "execution_count": null,
   "source": [
    "for i in range(10,21):\n",
    "    print(i,end=' ')"
   ],
   "outputs": [],
   "metadata": {}
  }
 ],
 "metadata": {
  "interpreter": {
   "hash": "e7370f93d1d0cde622a1f8e1c04877d8463912d04d973331ad4851f04de6915a"
  },
  "kernelspec": {
   "name": "python3",
   "display_name": "Python 3.9.6 64-bit"
  },
  "language_info": {
   "codemirror_mode": {
    "name": "ipython",
    "version": 3
   },
   "file_extension": ".py",
   "mimetype": "text/x-python",
   "name": "python",
   "nbconvert_exporter": "python",
   "pygments_lexer": "ipython3",
   "version": "3.9.6"
  },
  "orig_nbformat": 2
 },
 "nbformat": 4,
 "nbformat_minor": 2
}