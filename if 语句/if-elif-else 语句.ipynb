{
 "metadata": {
  "language_info": {
   "codemirror_mode": {
    "name": "ipython",
    "version": 3
   },
   "file_extension": ".py",
   "mimetype": "text/x-python",
   "name": "python",
   "nbconvert_exporter": "python",
   "pygments_lexer": "ipython3",
   "version": 3
  },
  "orig_nbformat": 2
 },
 "nbformat": 4,
 "nbformat_minor": 2,
 "cells": [
  {
   "source": [
    "# `if-elif-else` 语句"
   ],
   "cell_type": "markdown",
   "metadata": {}
  },
  {
   "source": [
    "- 语法：\n",
    "    ```\n",
    "    if 条件表达式:\n",
    "        代码块\n",
    "    elif 条件表达式:\n",
    "        代码块\n",
    "    elif 条件表达式:\n",
    "        代码块\n",
    "    elif 条件表达式:\n",
    "        代码块\n",
    "    ...\n",
    "    else:\n",
    "        代码块\n",
    "    ```\n",
    "- 流程： `if-elif-else` 语句在执行时，会自上向下依次对条件表达式进行求值判断\n",
    "    - 如果表达式的结果为 `True`，则执行当前代码块，然后语句结束\n",
    "    - 如果表达式的结果为 `False`，则继续向下判断，直到找到 `True` 为止\n",
    "    - 如果所有的表达式都是 `False`，则执行 `else` 后的代码块\n",
    "- `if-elif-else` 中只会有一个代码块会执行"
   ],
   "cell_type": "markdown",
   "metadata": {}
  },
  {
   "cell_type": "code",
   "execution_count": null,
   "metadata": {},
   "outputs": [],
   "source": [
    "age = int(input('请输入你的年龄：'))\n",
    "\n",
    "if age >= 100:\n",
    "    print('祝你健康长寿')\n",
    "elif age >= 60:\n",
    "    print('你已经退休了')\n",
    "elif age >= 40:\n",
    "    print('你已经中年了')\n",
    "elif age >= 18:\n",
    "    print('你已经成年了')\n",
    "else:\n",
    "    print('你还未成年呢')"
   ]
  }
 ]
}