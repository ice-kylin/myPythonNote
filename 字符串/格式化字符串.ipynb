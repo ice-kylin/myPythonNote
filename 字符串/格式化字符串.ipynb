{
 "cells": [
  {
   "cell_type": "markdown",
   "metadata": {},
   "source": [
    "# 格式化字符串"
   ]
  },
  {
   "cell_type": "markdown",
   "metadata": {},
   "source": [
    "1. 字符串之间也可以进行加法运算，如果将两个字符串进行相加，则会自动将两个字符串拼接为一个"
   ]
  },
  {
   "cell_type": "code",
   "execution_count": null,
   "metadata": {},
   "outputs": [],
   "source": [
    "a = 'Hello' + ' ' + 'World'\n",
    "print('a = ' + a) # 不常用"
   ]
  },
  {
   "cell_type": "markdown",
   "metadata": {},
   "source": [
    "2. 字符串不能和其它类型进行加法运算，如果做了会出现异常 `TypeError: can only concatenate str (not \"int\") to str`"
   ]
  },
  {
   "cell_type": "code",
   "execution_count": null,
   "metadata": {},
   "outputs": [],
   "source": [
    "a = 'str' + 123"
   ]
  },
  {
   "cell_type": "code",
   "execution_count": null,
   "metadata": {},
   "outputs": [],
   "source": [
    "a = 1\n",
    "print('a =', a) # 常用"
   ]
  },
  {
   "cell_type": "markdown",
   "metadata": {},
   "source": [
    "3. 创建字符串时，可以在字符串中指定占位符\n",
    "    - `%s` - 表示任意字符\n",
    "    - `%f` - 浮点占位符\n",
    "    - `%d` - 整数占位符"
   ]
  },
  {
   "cell_type": "code",
   "execution_count": null,
   "metadata": {},
   "outputs": [],
   "source": [
    "a = 'a = %s' % '字符串'\n",
    "b = 'b = %s %s' % ('Hello', 'World')\n",
    "c = 'c = %5s' % '字符串'\n",
    "d = 'd = %3.2s' % '字符串'\n",
    "print(a)\n",
    "print(b)\n",
    "print(c)\n",
    "print(d)"
   ]
  },
  {
   "cell_type": "code",
   "execution_count": null,
   "metadata": {},
   "outputs": [],
   "source": [
    "a = 'a = %d' % 100.933\n",
    "b = 'a = %5d' % 100.233\n",
    "print(a)\n",
    "print(b)"
   ]
  },
  {
   "cell_type": "markdown",
   "metadata": {},
   "source": [
    "4. 可以在字符串前面添加一个 `f` 来创建一个格式化字符串，格式化字符串中可以直接嵌入变量"
   ]
  },
  {
   "cell_type": "code",
   "execution_count": null,
   "metadata": {},
   "outputs": [],
   "source": [
    "a = 'str'\n",
    "b = 123\n",
    "c = f'a = {a}, b = {b}'\n",
    "print(c)"
   ]
  },
  {
   "cell_type": "markdown",
   "metadata": {},
   "source": [
    "## 练习"
   ]
  },
  {
   "cell_type": "code",
   "execution_count": null,
   "metadata": {},
   "outputs": [],
   "source": [
    "my_name = 'icekylin'\n",
    "print('My name is ' + my_name + '.')\n",
    "print('My name is', my_name)\n",
    "print('My name is %s.' % my_name)\n",
    "print(f'My name is {my_name}.')"
   ]
  }
 ],
 "metadata": {
  "interpreter": {
   "hash": "e7370f93d1d0cde622a1f8e1c04877d8463912d04d973331ad4851f04de6915a"
  },
  "kernelspec": {
   "display_name": "Python 3.9.6 64-bit",
   "name": "python3"
  },
  "language_info": {
   "codemirror_mode": {
    "name": "ipython",
    "version": 3
   },
   "file_extension": ".py",
   "mimetype": "text/x-python",
   "name": "python",
   "nbconvert_exporter": "python",
   "pygments_lexer": "ipython3",
   "version": "3.9.6"
  },
  "orig_nbformat": 2
 },
 "nbformat": 4,
 "nbformat_minor": 2
}
