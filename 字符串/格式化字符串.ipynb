{
 "cells": [
  {
   "cell_type": "markdown",
   "source": [
    "# 格式化字符串"
   ],
   "metadata": {}
  },
  {
   "cell_type": "markdown",
   "source": [
    "1. 字符串之间也可以进行加法运算，如果将两个字符串进行相加，则会自动将两个字符串拼接为一个"
   ],
   "metadata": {}
  },
  {
   "cell_type": "code",
   "execution_count": null,
   "source": [
    "a = 'Hello' + ' ' + 'World'\r\n",
    "print('a = ' + a) # 不常用"
   ],
   "outputs": [],
   "metadata": {}
  },
  {
   "cell_type": "markdown",
   "source": [
    "2. 字符串不能和其它类型进行加法运算，如果做了会出现异常 `TypeError: can only concatenate str (not \"int\") to str`"
   ],
   "metadata": {}
  },
  {
   "cell_type": "code",
   "execution_count": null,
   "source": [
    "a = 'str' + 123"
   ],
   "outputs": [],
   "metadata": {}
  },
  {
   "cell_type": "code",
   "execution_count": null,
   "source": [
    "a = 1\r\n",
    "print('a =', a) # 常用"
   ],
   "outputs": [],
   "metadata": {}
  },
  {
   "cell_type": "markdown",
   "source": [
    "3. 创建字符串时，可以在字符串中指定占位符\n",
    "    - `%s` - 表示任意字符\n",
    "    - `%f` - 浮点占位符\n",
    "    - `%d` - 整数占位符"
   ],
   "metadata": {}
  },
  {
   "cell_type": "code",
   "execution_count": null,
   "source": [
    "a = 'a = %s' % '字符串'\r\n",
    "b = 'b = %s %s' % ('Hello', 'World')\r\n",
    "c = 'c = %5s' % '字符串'\r\n",
    "d = 'd = %3.2s' % '字符串'\r\n",
    "print(a)\r\n",
    "print(b)\r\n",
    "print(c)\r\n",
    "print(d)"
   ],
   "outputs": [],
   "metadata": {}
  },
  {
   "cell_type": "code",
   "execution_count": null,
   "source": [
    "a = 'a = %d' % 100.933\n",
    "b = 'a = %5d' % 100.233\n",
    "print(a)\n",
    "print(b)"
   ],
   "outputs": [],
   "metadata": {}
  },
  {
   "cell_type": "markdown",
   "source": [
    "4. 可以在字符串前面添加一个 `f` 来创建一个格式化字符串，格式化字符串中可以直接嵌入变量"
   ],
   "metadata": {}
  },
  {
   "cell_type": "code",
   "execution_count": null,
   "source": [
    "a = 'str'\n",
    "b = 123\n",
    "c = f'a = {a}, b = {b}'\n",
    "print(c)"
   ],
   "outputs": [],
   "metadata": {}
  },
  {
   "cell_type": "markdown",
   "source": [
    "## 练习"
   ],
   "metadata": {}
  },
  {
   "cell_type": "code",
   "execution_count": null,
   "source": [
    "my_name = 'icekylin'\n",
    "print('My name is ' + my_name + '.')\n",
    "print('My name is', my_name)\n",
    "print('My name is %s.' % my_name)\n",
    "print(f'My name is {my_name}.')"
   ],
   "outputs": [],
   "metadata": {}
  }
 ],
 "metadata": {
  "interpreter": {
   "hash": "74c7218724031fd2ef8447a3bbda77489cffef548a027660cea6b63e0f8437c7"
  },
  "kernelspec": {
   "name": "python3",
   "display_name": "Python 3.9.7 64-bit (system)"
  },
  "language_info": {
   "codemirror_mode": {
    "name": "ipython",
    "version": 3
   },
   "file_extension": ".py",
   "mimetype": "text/x-python",
   "name": "python",
   "nbconvert_exporter": "python",
   "pygments_lexer": "ipython3",
   "version": "3.9.7"
  },
  "orig_nbformat": 2
 },
 "nbformat": 4,
 "nbformat_minor": 2
}