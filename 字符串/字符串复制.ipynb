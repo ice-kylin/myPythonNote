{
 "metadata": {
  "language_info": {
   "codemirror_mode": {
    "name": "ipython",
    "version": 3
   },
   "file_extension": ".py",
   "mimetype": "text/x-python",
   "name": "python",
   "nbconvert_exporter": "python",
   "pygments_lexer": "ipython3",
   "version": "3.9.2"
  },
  "orig_nbformat": 2,
  "kernelspec": {
   "name": "python3",
   "display_name": "Python 3",
   "language": "python"
  }
 },
 "nbformat": 4,
 "nbformat_minor": 2,
 "cells": [
  {
   "source": [
    "# 字符串复制"
   ],
   "cell_type": "markdown",
   "metadata": {}
  },
  {
   "source": [
    "如果将字符串和数字相乘，则解释器会将字符串重复指定的次数并返回"
   ],
   "cell_type": "markdown",
   "metadata": {}
  },
  {
   "cell_type": "code",
   "execution_count": null,
   "metadata": {},
   "outputs": [],
   "source": [
    "a = 'abc'\n",
    "a = a * 2\n",
    "b = a * 3\n",
    "print(a)\n",
    "print(b)"
   ]
  }
 ]
}