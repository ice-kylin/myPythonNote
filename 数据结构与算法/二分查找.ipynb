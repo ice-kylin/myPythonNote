{
 "cells": [
  {
   "cell_type": "code",
   "execution_count": null,
   "source": [
    "def search_element(search_list: list, element) -> int:\n",
    "    start_index = 0\n",
    "    end_index = len(search_list) - 1\n",
    "\n",
    "    while True:\n",
    "        len_of_slice = end_index - start_index + 1 if start_index == 0 else end_index - start_index\n",
    "\n",
    "        if len_of_slice == 0:\n",
    "            return None\n",
    "\n",
    "        middle_number = int(\n",
    "            (start_index + end_index) /\n",
    "            2) if (len_of_slice %\n",
    "                   2 == 0) else int((start_index + end_index) / 2 + 1)\n",
    "\n",
    "        if search_list[middle_number] == element:\n",
    "            return middle_number\n",
    "        elif search_list[middle_number] < element:\n",
    "            start_index = middle_number + 1\n",
    "        elif search_list[middle_number] > element:\n",
    "            end_index = middle_number - 1\n",
    "\n",
    "\n",
    "print(f'{search_element([1, 2, 3, 4, 5, 10, 30, 45], 30)}')"
   ],
   "outputs": [],
   "metadata": {}
  }
 ],
 "metadata": {
  "orig_nbformat": 4,
  "language_info": {
   "name": "python",
   "version": "3.9.7",
   "mimetype": "text/x-python",
   "codemirror_mode": {
    "name": "ipython",
    "version": 3
   },
   "pygments_lexer": "ipython3",
   "nbconvert_exporter": "python",
   "file_extension": ".py"
  },
  "kernelspec": {
   "name": "python3",
   "display_name": "Python 3.9.7 64-bit"
  },
  "interpreter": {
   "hash": "e7370f93d1d0cde622a1f8e1c04877d8463912d04d973331ad4851f04de6915a"
  }
 },
 "nbformat": 4,
 "nbformat_minor": 2
}