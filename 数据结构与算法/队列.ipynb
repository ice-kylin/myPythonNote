{
 "cells": [
  {
   "cell_type": "code",
   "execution_count": null,
   "source": [
    "class Queue:\n",
    "    def __init__(self, *elements) -> None:\n",
    "        self._queue = list(elements)\n",
    "\n",
    "    def enqueue(self, element):\n",
    "        self._queue.append(element)\n",
    "        return self\n",
    "\n",
    "    def dequeue(self):\n",
    "        return self._queue.pop(0)\n",
    "\n",
    "    def is_empty(self):\n",
    "        return len(self._queue) == 0\n",
    "\n",
    "\n",
    "my_queue = Queue(1, 2, 3)\n",
    "print(f'my_queue.dequeue() = {my_queue.dequeue()}')\n",
    "my_queue.enqueue(4).enqueue(5)\n",
    "for i in range(4):\n",
    "    print(f'my_queue.dequeue() = {my_queue.dequeue()}')"
   ],
   "outputs": [],
   "metadata": {}
  }
 ],
 "metadata": {
  "orig_nbformat": 4,
  "language_info": {
   "name": "python",
   "version": "3.9.7",
   "mimetype": "text/x-python",
   "codemirror_mode": {
    "name": "ipython",
    "version": 3
   },
   "pygments_lexer": "ipython3",
   "nbconvert_exporter": "python",
   "file_extension": ".py"
  },
  "kernelspec": {
   "name": "python3",
   "display_name": "Python 3.9.7 64-bit"
  },
  "interpreter": {
   "hash": "e7370f93d1d0cde622a1f8e1c04877d8463912d04d973331ad4851f04de6915a"
  }
 },
 "nbformat": 4,
 "nbformat_minor": 2
}