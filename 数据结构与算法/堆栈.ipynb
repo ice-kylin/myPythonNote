{
 "cells": [
  {
   "cell_type": "code",
   "execution_count": null,
   "metadata": {},
   "outputs": [],
   "source": [
    "class Stack:\n",
    "    def __init__(self, *elements) -> None:\n",
    "        self._stack = list(elements)\n",
    "\n",
    "    def push(self, element):\n",
    "        self._stack.append(element)\n",
    "        return self\n",
    "\n",
    "    def pop(self):\n",
    "        return self._stack.pop()\n",
    "\n",
    "    def is_empty(self):\n",
    "        return len(self._stack) == 0\n",
    "\n",
    "\n",
    "my_stack = Stack(1, 3, 5)\n",
    "my_stack.push(7)\n",
    "\n",
    "for i in range(4):\n",
    "    print(f'my_stack.pop() = {my_stack.pop()}')"
   ]
  }
 ],
 "metadata": {
  "interpreter": {
   "hash": "74c7218724031fd2ef8447a3bbda77489cffef548a027660cea6b63e0f8437c7"
  },
  "kernelspec": {
   "display_name": "Python 3.10.0 64-bit (system)",
   "name": "python3"
  },
  "language_info": {
   "codemirror_mode": {
    "name": "ipython",
    "version": 3
   },
   "file_extension": ".py",
   "mimetype": "text/x-python",
   "name": "python",
   "nbconvert_exporter": "python",
   "pygments_lexer": "ipython3",
   "version": "3.10.0"
  },
  "orig_nbformat": 4
 },
 "nbformat": 4,
 "nbformat_minor": 2
}
